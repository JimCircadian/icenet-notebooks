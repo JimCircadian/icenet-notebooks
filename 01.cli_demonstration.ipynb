{
 "cells": [
  {
   "cell_type": "markdown",
   "metadata": {},
   "source": [
    "# IceNet: Basic Command-Line Usage\n",
    "\n",
    "## Context\n",
    "\n",
    "### Purpose\n",
    "The IceNet library provides the ability to download, process, train and predict from end to end. Users can interact with IceNet either via the python interface (see notebook 3: library usage) or via a set of command-line interfaces (CLI) which provide a high-level interface.\n",
    "\n",
    "This notebook illustrates the CLI utilities that are available natively from the library for testing and producing operational forecasts. Via this interface, users can specify data inputs, data processing, training models, using them for predictions and processing outputs.\n",
    "\n",
    "### Modelling approach\n",
    "This modelling approach allows users to immediately utilise the library for producing sea ice concentration forecasts.\n",
    "\n",
    "### Highlights\n",
    "The key stages of an end to end run are: \n",
    "* [1. Setup](#1.-Setup)\n",
    "* [2. Download](#2.-Download)\n",
    "* [3. Process](#3.-Process)\n",
    "* [4. Train](#4.-Train)\n",
    "* [5. Predict](#5.-Predict)\n",
    "\n",
    "### Contributions\n",
    "#### Notebook\n",
    "\n",
    "James Byrne (author)\n",
    "\n",
    "David Wilby\n",
    "\n",
    "Bryn Noel Ubald\n",
    "\n",
    "__Please raise issues [in this repository](https://github.com/icenet-ai/icenet-notebooks/issues) to suggest updates to this notebook!__ \n",
    "\n",
    "Contact me at _jambyr \\<at\\> bas.ac.uk_ for anything else...\n",
    "\n",
    "#### Modelling codebase\n",
    "James Byrne (code author), Tom Andersson (science author)\n",
    "\n",
    "#### Modelling publications\n",
    "Andersson, T.R., Hosking, J.S., Pérez-Ortiz, M. et al. Seasonal Arctic sea ice forecasting with probabilistic deep learning. Nat Commun 12, 5124 (2021). https://doi.org/10.1038/s41467-021-25257-4\n",
    "\n",
    "#### Involved organisations\n",
    "The Alan Turing Institute and British Antarctic Survey"
   ]
  },
  {
   "cell_type": "markdown",
   "metadata": {},
   "source": [
    "___\n",
    "## 1. Setup\n",
    "\n",
    "### Prerequisites\n",
    "\n",
    "In order to execute the IceNet CLI tools in this notebook you will need:\n",
    "\n",
    "* An internet connection is needed for downloading the source data at the beginning of the notebook,\n",
    "* A suitable place to run this jupyter notebook such as:\n",
    "  * Running `jupyter notebook` or `jupyter lab` on your computer ([see the jupyter project page for more](https://docs.jupyter.org/en/latest/install.html)),\n",
    "  * A jupyterhub instance,\n",
    "  * A development environment such as [visual studio code](https://code.visualstudio.com/) which [can run jupyter notebooks](https://code.visualstudio.com/docs/datascience/jupyter-notebooks) (Note: for vscode, you'll need to install `ipykernel` in our conda environment later on), or\n",
    "  * A [Google colab](https://colab.research.google.com/) instance.\n",
    "* A working installation of [conda](https://conda.io/projects/conda/en/latest/user-guide/install/index.html),\n",
    "* GPUs are required for training (due to size of network, unrealistic to try running on CPU) but not required for predictions.\n",
    "* Knowledge of [Git](https://swcarpentry.github.io/git-novice/), [python](https://swcarpentry.github.io/python-novice-inflammation/) and [shell](https://swcarpentry.github.io/shell-novice/) (links to Carpentries courses on these topics)\n",
    "* There are a few external facilities that we interface with, which you will need to set up if you haven't already.\n",
    "  * Data sources under [Climate and Sea Ice Data](#Climate-and-Sea-Ice-Data) including an account and API token for the [Climate Data Store](https://cds.climate.copernicus.eu/#!/home) (detailed later)\n",
    "  * [Wandb](https://wandb.ai/) (Weights and Biases) - which can __optionally__ be used during training for monitoring.\n",
    "\n",
    "We'll assume that you're running in a local copy of `icenet-notebooks` for this tutorial, and __that one directory up we can deposit other repositories and folders__. If you already have some previous IceNet data available (as we do in `../data`) then you can symlink to it using `ln -s ../data`. The reason for this is described further below, as is the creation of this folder if it doesn't exist.\n",
    "\n",
    "eg\n",
    "\n",
    "```\n",
    "my-icenet-project/\n",
    "├── data/\n",
    "└── icenet-notebooks/   <--- we're in here!\n",
    "```"
   ]
  },
  {
   "cell_type": "markdown",
   "metadata": {},
   "source": [
    "### Environment Configuration\n",
    "\n",
    "We recommend running IceNet (or any python code) in a virtual environment. Here we will use `conda` to create a virtual envrionment containing `python` and `icenet`:\n",
    "\n",
    "1. First create a conda environment if you don't have one already:  In a shell (not in this notebook), run `conda create -n icenet python=3.11` which creates an environment named `icenet` and installs python 3.11 within it. Follow the prompts at your terminal to complete creation of the environment.\n",
    "1. Activate your environment: `conda activate icenet`,\n",
    "1. Check that your environment has activated correctly: `which python` should return a path to a python installation corresponding to your new environment (e.g. it should say `icenet` in it somewhere),\n",
    "1. Use `pip` to install icenet from the Python Package Index (PyPI): `pip install icenet` which should install the IceNet package and most of its dependencies. (`conda` can be used later to install some other dependencies)\n"
   ]
  },
  {
   "cell_type": "markdown",
   "metadata": {},
   "source": [
    "#### Commands\n",
    "\n",
    "Once the icenet library is installed, you'll be able to access all commands made available by the library. Some are utilities that won't be covered, but using `icenet_<TAB>`-complete you should be able to see a list that includes (but ___is not limited to___):\n",
    "\n",
    "* `icenet_data_cmip`\n",
    "* `icenet_data_era5`\n",
    "* `icenet_data_hres`\n",
    "* `icenet_data_masks`\n",
    "* `icenet_data_sic`\n",
    "* `icenet_dataset_create`\n",
    "* `icenet_output`\n",
    "* `icenet_predict`\n",
    "* `icenet_process_cmip`\n",
    "* `icenet_process_era5`\n",
    "* `icenet_process_hres`\n",
    "* `icenet_process_metadata`\n",
    "* `icenet_process_sic`\n",
    "* `icenet_train`\n",
    "* `icenet_plot_forecast`\n",
    "\n",
    "All of these commands are either directly or indirectly (through pipeline shell scripts) used in this notebook...\n",
    "\n",
    "All commands accept options such as `-v` for turning on verbose logging and `-h` for obtaining help about what options they offer. ___As with many shell commands, use `-h` to obtain information about options___.\n",
    "\n",
    "### CLI vs Library vs Pipeline usage\n",
    "\n",
    "The IceNet package is designed to support automated runs from end to end by exposing the above CLI operations. These are simple wrappers around the library itself, and __any__ step of this can be undertaken manually or programmatically by inspecting the relevant endpoints. \n",
    "\n",
    "IceNet can be run in a number of ways: from the command line, the python interface, or as a pipeline.\n",
    "\n",
    "The rule of thumb to follow: \n",
    "\n",
    "* Use the [pipeline repository](https://github.com/icenet-ai/icenet-pipeline) if you want to run the end to end IceNet processing out of the box.\n",
    "* Adapt or customise this process using `icenet_*` commands described in this notebook and in the scripts contained in the [pipeline repo](https://github.com/icenet-ai/icenet-pipeline).\n",
    "* For ultimate customisation, you can interact with the IceNet repository programmatically (which is how the CLI commands operate.) For more information look at the [IceNet CLI implementations](https://github.com/JimCircadian/icenet2/blob/main/setup.py#L32) and the [library notebook](03.library_usage.ipynb), along with the [library documentation](#TODO). "
   ]
  },
  {
   "cell_type": "markdown",
   "metadata": {
    "pycharm": {
     "name": "#%% md\n"
    },
    "tags": []
   },
   "source": [
    "___\n",
    "## 2. Download\n",
    "\n",
    "Now we can get started, with the first step of downloading the data.\n",
    "\n",
    "### Mask data\n",
    "\n",
    "IceNet relies on some generated masks for training/prediction, which can be automatically produced very easily using `icenet_data_masks {north,south}`, which downloads and processes the data required.\n",
    "Once this has been run once, it does not need to be run again since the mask files are stored on disk (the masks vary each month, but are fixed across any given year)."
   ]
  },
  {
   "cell_type": "code",
   "execution_count": 1,
   "metadata": {
    "collapsed": true,
    "jupyter": {
     "outputs_hidden": true
    },
    "pycharm": {
     "name": "#%% md\n"
    },
    "tags": []
   },
   "outputs": [
    {
     "name": "stdout",
     "output_type": "stream",
     "text": [
      "[21-03-24 15:11:15 :INFO    ] - siconca ice_conc_sh_ease2-250_cdr-v2p0_200001021200.nc already exists\n",
      "[21-03-24 15:11:16 :INFO    ] - Saving ./data/masks/south/masks/active_grid_cell_mask_01.npy\n",
      "[21-03-24 15:11:16 :INFO    ] - siconca ice_conc_sh_ease2-250_cdr-v2p0_200002021200.nc already exists\n",
      "[21-03-24 15:11:16 :INFO    ] - Saving ./data/masks/south/masks/active_grid_cell_mask_02.npy\n",
      "[21-03-24 15:11:16 :INFO    ] - siconca ice_conc_sh_ease2-250_cdr-v2p0_200003021200.nc already exists\n",
      "[21-03-24 15:11:16 :INFO    ] - Saving ./data/masks/south/masks/active_grid_cell_mask_03.npy\n",
      "[21-03-24 15:11:16 :INFO    ] - siconca ice_conc_sh_ease2-250_cdr-v2p0_200004021200.nc already exists\n",
      "[21-03-24 15:11:16 :INFO    ] - Saving ./data/masks/south/masks/active_grid_cell_mask_04.npy\n",
      "[21-03-24 15:11:16 :INFO    ] - siconca ice_conc_sh_ease2-250_cdr-v2p0_200005021200.nc already exists\n",
      "[21-03-24 15:11:16 :INFO    ] - Saving ./data/masks/south/masks/active_grid_cell_mask_05.npy\n",
      "[21-03-24 15:11:16 :INFO    ] - siconca ice_conc_sh_ease2-250_cdr-v2p0_200006021200.nc already exists\n",
      "[21-03-24 15:11:16 :INFO    ] - Saving ./data/masks/south/masks/active_grid_cell_mask_06.npy\n",
      "[21-03-24 15:11:16 :INFO    ] - siconca ice_conc_sh_ease2-250_cdr-v2p0_200007021200.nc already exists\n",
      "[21-03-24 15:11:16 :INFO    ] - Saving ./data/masks/south/masks/active_grid_cell_mask_07.npy\n",
      "[21-03-24 15:11:16 :INFO    ] - siconca ice_conc_sh_ease2-250_cdr-v2p0_200008021200.nc already exists\n",
      "[21-03-24 15:11:16 :INFO    ] - Saving ./data/masks/south/masks/active_grid_cell_mask_08.npy\n",
      "[21-03-24 15:11:16 :INFO    ] - siconca ice_conc_sh_ease2-250_cdr-v2p0_200009021200.nc already exists\n",
      "[21-03-24 15:11:16 :INFO    ] - Saving ./data/masks/south/masks/active_grid_cell_mask_09.npy\n",
      "[21-03-24 15:11:16 :INFO    ] - siconca ice_conc_sh_ease2-250_cdr-v2p0_200010021200.nc already exists\n",
      "[21-03-24 15:11:16 :INFO    ] - Saving ./data/masks/south/masks/active_grid_cell_mask_10.npy\n",
      "[21-03-24 15:11:16 :INFO    ] - siconca ice_conc_sh_ease2-250_cdr-v2p0_200011021200.nc already exists\n",
      "[21-03-24 15:11:16 :INFO    ] - Saving ./data/masks/south/masks/active_grid_cell_mask_11.npy\n",
      "[21-03-24 15:11:16 :INFO    ] - siconca ice_conc_sh_ease2-250_cdr-v2p0_200012021200.nc already exists\n",
      "[21-03-24 15:11:16 :INFO    ] - Saving ./data/masks/south/masks/active_grid_cell_mask_12.npy\n"
     ]
    }
   ],
   "source": [
    "!icenet_data_masks south"
   ]
  },
  {
   "cell_type": "markdown",
   "metadata": {},
   "source": [
    "This command creates the following directories/files.\n",
    "\n",
    "<details>\n",
    "  <summary>Directory structure</summary>\n",
    "\n",
    "```\n",
    "icenet-notebooks/ \n",
    "    └── data/masks/south/\n",
    "        ├──  masks/\n",
    "        │   ├──  active_grid_cell_mask_01.npy <--- Mask for the active regions to consider for each month (This is for Jan)\n",
    "        │   ├──  active_grid_cell_mask_02.npy <--- Mask for Feb\n",
    "        │   ├──  ...\n",
    "        │   ├──  check.py\n",
    "        │   ├──  land_mask.npy  <--- This masks the land regions\n",
    "        │   └──  masks.params   <--- This stores details relating to the \"polar hole\"\n",
    "        └──  siconca/           <--- These are temporarily downloaded data used to generate the above masks\n",
    "            └──  2000/\n",
    "                ├──  01/\n",
    "                │   └──  ice_conc_sh_ease2-250_cdr-v2p0_200001021200.nc\n",
    "                ├──  02/\n",
    "                │   └──  ice_conc_sh_ease2-250_cdr-v2p0_200002021200.nc\n",
    "                └── .../\n",
    "                    └── .../\n",
    "```\n",
    "</details>\n",
    "\n",
    "**Note:** The output data structure in its entirety for all parts of the IceNet library is covered in the third notebook ([03.data_and_forecasts.ipynb](03.data_and_forecasts.ipynb))."
   ]
  },
  {
   "cell_type": "markdown",
   "metadata": {
    "pycharm": {
     "name": "#%% md\n"
    },
    "tags": []
   },
   "source": [
    "### Climate and Sea Ice Data\n",
    "\n",
    "Obtaining and preparing data is simply achieved using `icenet_data_*` commands (you need to __configure the [CDS API](https://cds.climate.copernicus.eu/) token yourself__ - see [here](https://cds.climate.copernicus.eu/api-how-to) for some instructions on registering and on how to use the CDS API), which share common arguments `hemisphere`, `start_date` and `end_date`. There are also implementation specific options worth reviewing under `--help`. We specify the variables and levels via these commands.\n",
    "\n",
    "_Please ignore \"NOT IMPLEMENTED YET\", this is indicative of the commands not checking before overwriting files._\n",
    "\n",
    "__The `-d` flag prevents the downloaded data from being downloaded each time.__\n",
    "\n",
    "___Even small data ranges like this can take a while to retrieve (each variable in this case, for four months, is 3GB, so may take up to an hour.) Please refer to [CDS requests page](https://cds.climate.copernicus.eu/cdsapp#!/yourrequests) to monitor ERA5 downloads...___"
   ]
  },
  {
   "cell_type": "markdown",
   "metadata": {},
   "source": [
    "`icenet_data_era5` downloads <abbr title=\"ERA5 provides hourly estimates of a large number of atmospheric, land and oceanic climate variables. The data cover the Earth on a 30km grid and resolve the atmosphere using 137 levels from the surface up to a height of 80km. ERA5 includes information about uncertainties for all variables at reduced spatial and temporal resolutions.\">ERA5</abbr> (European Centre for Medium Range Weather Forecasting Reanalysis) data. For more information on the ERA5 data, [see the Copernicus page](https://climate.copernicus.eu/climate-reanalysis).\n",
    "\n",
    "We can use the `--help` flag for the command line tools to print the help text and explanation of the options. Some of these help commands can take up to a minute to run, so don't worry if you have to wait a moment."
   ]
  },
  {
   "cell_type": "code",
   "execution_count": 2,
   "metadata": {},
   "outputs": [
    {
     "name": "stdout",
     "output_type": "stream",
     "text": [
      "usage: icenet_data_era5 [-h] [-c {cdsapi,toolbox}] [-w WORKERS] [-po] [-d]\n",
      "                        [-v] [--vars VARS] [--levels LEVELS] [-n] [-p]\n",
      "                        {north,south} start_date end_date\n",
      "\n",
      "positional arguments:\n",
      "  {north,south}\n",
      "  start_date\n",
      "  end_date\n",
      "\n",
      "options:\n",
      "  -h, --help            show this help message and exit\n",
      "  -c {cdsapi,toolbox}, --choice {cdsapi,toolbox}\n",
      "  -w WORKERS, --workers WORKERS\n",
      "  -po, --parallel-opens\n",
      "                        Allow xarray mfdataset to work with parallel opens\n",
      "  -d, --dont-delete\n",
      "  -v, --verbose\n",
      "  --vars VARS           Comma separated list of vars\n",
      "  --levels LEVELS       Comma separated list of pressures/depths as needed,\n",
      "                        use zero length string if None (e.g. ',,500,,,') and\n",
      "                        pipes for multiple per var (e.g. ',,250|500,,'\n",
      "  -n, --do-not-download\n",
      "  -p, --do-not-postprocess\n"
     ]
    }
   ],
   "source": [
    "# Please note that on some systems running the help commands can take 30 seconds or more the first time it is run.\n",
    "!icenet_data_era5 --help"
   ]
  },
  {
   "cell_type": "markdown",
   "metadata": {},
   "source": [
    "The `-vars` flag is used for specifying the variables from ERA5 that we want as follows:\n",
    "\n",
    "* `tas`: `2 metre temperature`,\n",
    "* `uas`: `10 metre U wind component`,\n",
    "* `vas`: `10 metre V wind component`,\n",
    "* `zg`: `Geopotential height`.\n",
    "\n",
    "These are the four we'll use here, though others are available.\n",
    "\n",
    "`--levels` specifies the levels requested, here we use the string `,,,500|250` to request `None` for our first four variables and 500 and 250 for our `zg` variable using the syntax `500|250`.\n",
    "\n",
    "Finally, we pass start and end dates for our query. This is in the format of `yyyy-mm-yy`, though for single digits, you can omit the leading 0. So, the both of these are equivalent and valid: `2020-1-1` or `2020-01-01`."
   ]
  },
  {
   "cell_type": "code",
   "execution_count": 3,
   "metadata": {
    "collapsed": true,
    "jupyter": {
     "outputs_hidden": true
    },
    "pycharm": {
     "name": "#%% md\n"
    },
    "tags": []
   },
   "outputs": [
    {
     "name": "stdout",
     "output_type": "stream",
     "text": [
      "[21-03-24 15:11:19 :INFO    ] - ERA5 Data Downloading\n",
      "[21-03-24 15:11:19 :WARNING ] - !!! Deletions of temp files are switched off: be careful with this, you need to manage your files manually\n",
      "[21-03-24 15:11:19 :INFO    ] - Building request(s), downloading and daily averaging from ERA5 API\n",
      "[21-03-24 15:11:19 :INFO    ] - Processing single download for uas @ None with 121 dates\n",
      "[21-03-24 15:11:19 :INFO    ] - Processing single download for vas @ None with 121 dates\n",
      "[21-03-24 15:11:19 :INFO    ] - Processing single download for tas @ None with 121 dates\n",
      "[21-03-24 15:11:19 :INFO    ] - Processing single download for zg @ 500 with 121 dates\n",
      "[21-03-24 15:11:19 :INFO    ] - Processing single download for zg @ 250 with 121 dates\n",
      "[21-03-24 15:11:19 :INFO    ] - No requested dates remain, likely already present\n",
      "[21-03-24 15:11:19 :INFO    ] - No requested dates remain, likely already present\n",
      "[21-03-24 15:11:19 :INFO    ] - No requested dates remain, likely already present\n",
      "[21-03-24 15:11:19 :INFO    ] - No requested dates remain, likely already present\n",
      "[21-03-24 15:11:19 :INFO    ] - No requested dates remain, likely already present\n",
      "[21-03-24 15:11:19 :INFO    ] - 0 daily files downloaded\n",
      "[21-03-24 15:11:19 :INFO    ] - No regrid batches to processing, moving on...\n",
      "[21-03-24 15:11:19 :INFO    ] - Rotating wind data prior to merging\n",
      "[21-03-24 15:11:20 :INFO    ] - Rotating wind data in ./data/era5/south/uas ./data/era5/south/vas\n",
      "[21-03-24 15:11:20 :INFO    ] - 0 files for uas\n",
      "[21-03-24 15:11:20 :INFO    ] - 0 files for vas\n"
     ]
    }
   ],
   "source": [
    "!icenet_data_era5 south -d --vars uas,vas,tas,zg --levels ',,,500|250' 2020-1-1 2020-4-30"
   ]
  },
  {
   "cell_type": "markdown",
   "metadata": {},
   "source": [
    "`icenet_data_sic` downloads the Sea Ice Concentration (SIC) data from the Ocean and Sea Ice Satellite Application Facility (OSI SAF)."
   ]
  },
  {
   "cell_type": "code",
   "execution_count": 4,
   "metadata": {},
   "outputs": [
    {
     "name": "stdout",
     "output_type": "stream",
     "text": [
      "usage: icenet_data_sic [-h] [-w WORKERS] [-po] [-d] [-v] [-u]\n",
      "                       [-c SIC_CHUNKING_SIZE] [-dt DASK_TIMEOUTS]\n",
      "                       [-dp DASK_PORT]\n",
      "                       {north,south} start_date end_date\n",
      "\n",
      "positional arguments:\n",
      "  {north,south}\n",
      "  start_date\n",
      "  end_date\n",
      "\n",
      "options:\n",
      "  -h, --help            show this help message and exit\n",
      "  -w WORKERS, --workers WORKERS\n",
      "  -po, --parallel-opens\n",
      "                        Allow xarray mfdataset to work with parallel opens\n",
      "  -d, --dont-delete\n",
      "  -v, --verbose\n",
      "  -u, --use-dask\n",
      "  -c SIC_CHUNKING_SIZE, --sic-chunking-size SIC_CHUNKING_SIZE\n",
      "  -dt DASK_TIMEOUTS, --dask-timeouts DASK_TIMEOUTS\n",
      "  -dp DASK_PORT, --dask-port DASK_PORT\n"
     ]
    }
   ],
   "source": [
    "!icenet_data_sic --help"
   ]
  },
  {
   "cell_type": "markdown",
   "metadata": {},
   "source": [
    "To run `icenet_data_sic` you will need the `eccodes` package installed. If you have used `pip` to install IceNet, you will need to use `conda` to install `eccodes` by running `conda install -c conda-forge eccodes` at the command line. Alternatively, the ECMWF provide alternative instructions for installing eccodes [here](https://confluence.ecmwf.int/display/ECC/ecCodes+installation#ecCodesinstallation-Python3bindings).\n",
    "\n",
    "Here we pass two dates bounding the data range to be downloaded using the `-d` option with the dates in `YYYY-M-D` format."
   ]
  },
  {
   "cell_type": "code",
   "execution_count": 5,
   "metadata": {
    "collapsed": true,
    "jupyter": {
     "outputs_hidden": true
    }
   },
   "outputs": [
    {
     "name": "stdout",
     "output_type": "stream",
     "text": [
      "[21-03-24 15:11:22 :INFO    ] - OSASIF-SIC Data Downloading\n",
      "[21-03-24 15:11:22 :INFO    ] - Downloading SIC datafiles to .temp intermediates...\n",
      "[21-03-24 15:11:22 :INFO    ] - Excluding 121 dates already existing from 121 dates requested.\n",
      "[21-03-24 15:11:22 :INFO    ] - Opening for interpolation: ['./data/osisaf/south/siconca/2020.nc']\n",
      "[21-03-24 15:11:22 :INFO    ] - Processing 0 missing dates\n"
     ]
    }
   ],
   "source": [
    "!icenet_data_sic south -d 2020-1-1 2020-4-30"
   ]
  },
  {
   "cell_type": "markdown",
   "metadata": {
    "pycharm": {
     "name": "#%% md\n"
    },
    "tags": []
   },
   "source": [
    "By default, the IceNet commands regrid and rotates data as required to align with the OSISAF SIC data, which is used as the output for the dataset. Programmatic usage allows you to avoid this (see [03.library_usage](03.library_usage.ipynb)).\n",
    "\n",
    "The following downloaders are available:\n",
    "\n",
    "* `icenet_data_era5` - downloads [ERA5 reanalysis](https://cds.climate.copernicus.eu/cdsapp#!/search?type=dataset&keywords=((%20%22Product%20type:%20Reanalysis%22%20))) data using either the CDS Toolbox or direct API\n",
    "* `icenet_data_cmip` - downloads the prescribed experiments from [CMIP6](https://esgf-node.llnl.gov/search/cmip6/) for the original IceNet paper runs\n",
    "* `icenet_data_hres` - downloads up to date [forecast generated data from the ECMWF MARS API](https://www.ecmwf.int/en/forecasts/datasets/catalogue-ecmwf-real-time-products)\n",
    "* `icenet_data_sic` - downloads [OSISAF sea-ice concentration (SIC) data](https://osisaf-hl.met.no/v2p1-sea-ice-index)"
   ]
  },
  {
   "cell_type": "markdown",
   "metadata": {
    "pycharm": {
     "name": "#%% md\n"
    },
    "tags": []
   },
   "source": [
    "___\n",
    "## 3. Process\n",
    "\n",
    "Processing takes the data made available through the source data store and undertakes the necessary normalisation for use as input channels to the UNet architecture. This intermediary step means that the original source data can be reused numerous times with varying training, validation and test date setups.\n",
    "\n",
    "### Command example"
   ]
  },
  {
   "cell_type": "code",
   "execution_count": null,
   "metadata": {},
   "outputs": [],
   "source": [
    "!icenet_process_era5 --help"
   ]
  },
  {
   "cell_type": "markdown",
   "metadata": {},
   "source": [
    "These commands take the following as positional arguments:\n",
    "\n",
    "| argument    | description                                   | value         |\n",
    "|     ---:    |:---                                           | :---          |\n",
    "|*NAME*       | Processed data output name                    | tutorial_data |\n",
    "|*HEMISPHERE* | Hemisphere(s) the processed data covers       | south         |\n",
    "\n",
    "This outputs the processed files into the `processed/tutorial_data` directory and creates a loader file called `loader.tutorial_data.json`. Each of these `process` commands updates the loader file with the corresponding information on how the processed data was generated as a form of data lineage."
   ]
  },
  {
   "cell_type": "code",
   "execution_count": 6,
   "metadata": {
    "pycharm": {
     "name": "#%% md\n"
    },
    "tags": []
   },
   "outputs": [
    {
     "name": "stdout",
     "output_type": "stream",
     "text": [
      "[21-03-24 15:11:26 :INFO    ] - Got 91 dates for train\n",
      "[21-03-24 15:11:26 :INFO    ] - Got 21 dates for val\n",
      "[21-03-24 15:11:26 :INFO    ] - Got 2 dates for test\n",
      "[21-03-24 15:11:26 :INFO    ] - Creating path: ./processed/tutorial_data/era5\n",
      "[21-03-24 15:11:26 :INFO    ] - Processing 91 dates for train category\n",
      "[21-03-24 15:11:26 :INFO    ] - Including lag of 1 days\n",
      "[21-03-24 15:11:26 :INFO    ] - Including lead of 93 days\n",
      "[21-03-24 15:11:26 :INFO    ] - No data found for 2019-12-31, outside data boundary perhaps?\n",
      "[21-03-24 15:11:26 :INFO    ] - Processing 21 dates for val category\n",
      "[21-03-24 15:11:26 :INFO    ] - Including lag of 1 days\n",
      "[21-03-24 15:11:26 :INFO    ] - Including lead of 93 days\n",
      "[21-03-24 15:11:26 :INFO    ] - Processing 2 dates for test category\n",
      "[21-03-24 15:11:26 :INFO    ] - Including lag of 1 days\n",
      "[21-03-24 15:11:26 :INFO    ] - Including lead of 93 days\n",
      "[21-03-24 15:11:26 :INFO    ] - Got 1 files for tas\n",
      "[21-03-24 15:11:26 :INFO    ] - Got 1 files for uas\n",
      "[21-03-24 15:11:26 :INFO    ] - Got 1 files for vas\n",
      "[21-03-24 15:11:26 :INFO    ] - Got 1 files for zg250\n",
      "[21-03-24 15:11:26 :INFO    ] - Got 1 files for zg500\n",
      "[21-03-24 15:11:26 :INFO    ] - Opening files for uas\n",
      "[21-03-24 15:11:26 :INFO    ] - Filtered to 121 units long based on configuration requirements\n",
      "[21-03-24 15:11:27 :INFO    ] - Normalising uas\n",
      "[21-03-24 15:11:27 :INFO    ] - Opening files for vas\n",
      "[21-03-24 15:11:27 :INFO    ] - Filtered to 121 units long based on configuration requirements\n",
      "[21-03-24 15:11:28 :INFO    ] - Normalising vas\n",
      "[21-03-24 15:11:28 :INFO    ] - Opening files for tas\n",
      "[21-03-24 15:11:28 :INFO    ] - Filtered to 121 units long based on configuration requirements\n",
      "[21-03-24 15:11:28 :INFO    ] - Generating climatology ./processed/tutorial_data/era5/south/params/climatology.tas\n",
      "[21-03-24 15:11:28 :WARNING ] - We don't have a full climatology (1,2,3) compared with data (1,2,3,4)\n",
      "[21-03-24 15:11:29 :INFO    ] - Normalising tas\n",
      "[21-03-24 15:11:29 :INFO    ] - Opening files for zg500\n",
      "[21-03-24 15:11:29 :INFO    ] - Filtered to 121 units long based on configuration requirements\n",
      "[21-03-24 15:11:29 :INFO    ] - Generating climatology ./processed/tutorial_data/era5/south/params/climatology.zg500\n",
      "[21-03-24 15:11:29 :WARNING ] - We don't have a full climatology (1,2,3) compared with data (1,2,3,4)\n",
      "[21-03-24 15:11:30 :INFO    ] - Normalising zg500\n",
      "[21-03-24 15:11:30 :INFO    ] - Opening files for zg250\n",
      "[21-03-24 15:11:30 :INFO    ] - Filtered to 121 units long based on configuration requirements\n",
      "[21-03-24 15:11:30 :INFO    ] - Generating climatology ./processed/tutorial_data/era5/south/params/climatology.zg250\n",
      "[21-03-24 15:11:30 :WARNING ] - We don't have a full climatology (1,2,3) compared with data (1,2,3,4)\n",
      "[21-03-24 15:11:31 :INFO    ] - Normalising zg250\n",
      "[21-03-24 15:11:31 :INFO    ] - Writing configuration to ./loader.tutorial_data.json\n",
      "[21-03-24 15:11:34 :INFO    ] - Got 91 dates for train\n",
      "[21-03-24 15:11:34 :INFO    ] - Got 20 dates for val\n",
      "[21-03-24 15:11:34 :INFO    ] - Got 2 dates for test\n",
      "[21-03-24 15:11:34 :INFO    ] - Creating path: ./processed/tutorial_data/osisaf\n",
      "[21-03-24 15:11:34 :INFO    ] - Processing 91 dates for train category\n",
      "[21-03-24 15:11:34 :INFO    ] - Including lag of 1 days\n",
      "[21-03-24 15:11:34 :INFO    ] - Including lead of 93 days\n",
      "[21-03-24 15:11:34 :INFO    ] - No data found for 2019-12-31, outside data boundary perhaps?\n",
      "[21-03-24 15:11:34 :INFO    ] - Processing 20 dates for val category\n",
      "[21-03-24 15:11:34 :INFO    ] - Including lag of 1 days\n",
      "[21-03-24 15:11:34 :INFO    ] - Including lead of 93 days\n",
      "[21-03-24 15:11:34 :INFO    ] - Processing 2 dates for test category\n",
      "[21-03-24 15:11:34 :INFO    ] - Including lag of 1 days\n",
      "[21-03-24 15:11:34 :INFO    ] - Including lead of 93 days\n",
      "[21-03-24 15:11:34 :INFO    ] - Got 1 files for siconca\n",
      "[21-03-24 15:11:34 :INFO    ] - Opening files for siconca\n",
      "[21-03-24 15:11:34 :INFO    ] - Filtered to 121 units long based on configuration requirements\n",
      "[21-03-24 15:11:35 :INFO    ] - No normalisation for siconca\n",
      "[21-03-24 15:11:35 :INFO    ] - Loading configuration ./loader.tutorial_data.json\n",
      "[21-03-24 15:11:35 :INFO    ] - Writing configuration to ./loader.tutorial_data.json\n",
      "[21-03-24 15:11:38 :INFO    ] - Creating path: ./processed/tutorial_data/meta\n",
      "[21-03-24 15:11:38 :INFO    ] - Loading configuration ./loader.tutorial_data.json\n",
      "[21-03-24 15:11:38 :INFO    ] - Writing configuration to ./loader.tutorial_data.json\n"
     ]
    }
   ],
   "source": [
    "!icenet_process_era5 tutorial_data south \\\n",
    "    -ns 2020-1-1 -ne 2020-3-31 -vs 2020-4-3 -ve 2020-4-23 -ts 2020-4-1 -te 2020-4-2 \\\n",
    "    -l 1 --abs uas,vas --anom tas,zg500,zg250\n",
    "\n",
    "!icenet_process_sic tutorial_data south \\\n",
    "    -ns 2020-1-1 -ne 2020-3-31 -vs 2020-4-1 -ve 2020-4-20 -ts 2020-4-1 -te 2020-4-2 \\\n",
    "    -l 1 --abs siconca\n",
    "\n",
    "!icenet_process_metadata tutorial_data south"
   ]
  },
  {
   "cell_type": "markdown",
   "metadata": {
    "pycharm": {
     "name": "#%% md\n"
    },
    "tags": []
   },
   "source": [
    "Consulting the command options will make the above more obvious (as well as further options) but a few things we can note that are helpful: \n",
    "\n",
    "* Options `-ns`, `-ne`, `-vs`, `-ve`, `-ts`, `-te`, which correspond to training, validation and test sets, allow ranges to be comma-delimited. The above example produces a split training set, for example, that spans the first 4 months of 2020.\n",
    "  * `-ns` specifies the *start* of the training set, `-ne` specifies the *end*.\n",
    "  * `-vs` specifies the *start* of the validation set, `-ve` specifies the *end*.\n",
    "  * `-ts` specifies the *start* of the test set, `-te` specifies the *end*.\n",
    "* These date ranges can be randomised and subsampled using `-d`, __though this is still a bit experimental__\n",
    "* The `-l` option (which is for `--lag`) specified the number of days back we look at input data variables for the output in question.\n",
    "\n",
    "There are plenty of other options available for preprocessing the data, but it should be noted that whilst this is not strongly coupled to dataset creation, options like the lag specified here might influence the creation of datasets in the next step. \n",
    "\n",
    "These commands, especially with decadal ranges, can take a long time (12+ hours) to complete depending on the hosts/storage in use."
   ]
  },
  {
   "cell_type": "markdown",
   "metadata": {},
   "source": [
    "### Dataset creation\n",
    "\n",
    "Once the above preprocessing is taken care of datasets can easily be created thus. This operation _creates a cached dataset_ in the filesystem that can be fed in for training runs. \n",
    "\n",
    "The common options used here: \n",
    "\n",
    "* `-fd` allows us to specify how far forward to forecast to. For this example we're limiting to 7 days based on the limited amount of SIC groud truth data we downloaded.\n",
    "* `-l` as in the preprocessing stage. If experimenting and using full date ranges, creating a dataset with a different lag can save having to reprocess everything.\n",
    "* `-ob` is the output batch size for the tfrecords. It is advisable to keep this smaller except where there are seriously large numbers of sets, preferably near to the expected size being used for training.\n",
    "* `-w` specifies the number of worker subprocesses to use for producing the output. Probably advisable to keep this below the number of cores on your host! :) "
   ]
  },
  {
   "cell_type": "code",
   "execution_count": 7,
   "metadata": {},
   "outputs": [
    {
     "name": "stdout",
     "output_type": "stream",
     "text": [
      "[21-03-24 15:11:41 :INFO    ] - Got 0 dates for train\n",
      "[21-03-24 15:11:41 :INFO    ] - Got 0 dates for val\n",
      "[21-03-24 15:11:41 :INFO    ] - Got 0 dates for test\n",
      "[21-03-24 15:11:41 :INFO    ] - Creating path: ./network_datasets/tutorial_data\n",
      "[21-03-24 15:11:41 :INFO    ] - Loading configuration loader.tutorial_data.json\n",
      "[21-03-24 15:11:44 :INFO    ] - Dashboard at localhost:8888\n",
      "[21-03-24 15:11:44 :INFO    ] - Using dask client <Client: 'tcp://127.0.0.1:37866' processes=4 threads=4, memory=503.20 GiB>\n",
      "[21-03-24 15:11:44 :INFO    ] - 91 train dates to process, generating cache data.\n",
      "[21-03-24 15:11:56 :INFO    ] - Finished output ./network_datasets/tutorial_data/south/train/00000000.tfrecord\n",
      "[21-03-24 15:11:56 :INFO    ] - Finished output ./network_datasets/tutorial_data/south/train/00000001.tfrecord\n",
      "[21-03-24 15:11:56 :INFO    ] - Finished output ./network_datasets/tutorial_data/south/train/00000002.tfrecord\n",
      "[21-03-24 15:11:56 :INFO    ] - Finished output ./network_datasets/tutorial_data/south/train/00000003.tfrecord\n",
      "[21-03-24 15:11:56 :INFO    ] - Finished output ./network_datasets/tutorial_data/south/train/00000004.tfrecord\n",
      "[21-03-24 15:11:56 :INFO    ] - Finished output ./network_datasets/tutorial_data/south/train/00000005.tfrecord\n",
      "[21-03-24 15:11:56 :INFO    ] - Finished output ./network_datasets/tutorial_data/south/train/00000006.tfrecord\n",
      "[21-03-24 15:11:56 :INFO    ] - Finished output ./network_datasets/tutorial_data/south/train/00000007.tfrecord\n",
      "[21-03-24 15:12:10 :INFO    ] - Finished output ./network_datasets/tutorial_data/south/train/00000008.tfrecord\n",
      "[21-03-24 15:12:10 :INFO    ] - Finished output ./network_datasets/tutorial_data/south/train/00000009.tfrecord\n",
      "[21-03-24 15:12:10 :INFO    ] - Finished output ./network_datasets/tutorial_data/south/train/00000010.tfrecord\n",
      "[21-03-24 15:12:10 :INFO    ] - Finished output ./network_datasets/tutorial_data/south/train/00000011.tfrecord\n",
      "[21-03-24 15:12:10 :INFO    ] - Finished output ./network_datasets/tutorial_data/south/train/00000012.tfrecord\n",
      "[21-03-24 15:12:10 :INFO    ] - Finished output ./network_datasets/tutorial_data/south/train/00000013.tfrecord\n",
      "[21-03-24 15:12:10 :INFO    ] - Finished output ./network_datasets/tutorial_data/south/train/00000014.tfrecord\n",
      "[21-03-24 15:12:10 :INFO    ] - Finished output ./network_datasets/tutorial_data/south/train/00000015.tfrecord\n",
      "[21-03-24 15:12:23 :INFO    ] - Finished output ./network_datasets/tutorial_data/south/train/00000016.tfrecord\n",
      "[21-03-24 15:12:23 :INFO    ] - Finished output ./network_datasets/tutorial_data/south/train/00000017.tfrecord\n",
      "[21-03-24 15:12:23 :INFO    ] - Finished output ./network_datasets/tutorial_data/south/train/00000018.tfrecord\n",
      "[21-03-24 15:12:23 :INFO    ] - Finished output ./network_datasets/tutorial_data/south/train/00000019.tfrecord\n",
      "[21-03-24 15:12:23 :INFO    ] - Finished output ./network_datasets/tutorial_data/south/train/00000020.tfrecord\n",
      "[21-03-24 15:12:23 :INFO    ] - Finished output ./network_datasets/tutorial_data/south/train/00000021.tfrecord\n",
      "[21-03-24 15:12:23 :INFO    ] - Finished output ./network_datasets/tutorial_data/south/train/00000022.tfrecord\n",
      "[21-03-24 15:12:23 :INFO    ] - Finished output ./network_datasets/tutorial_data/south/train/00000023.tfrecord\n",
      "[21-03-24 15:12:35 :INFO    ] - Finished output ./network_datasets/tutorial_data/south/train/00000024.tfrecord\n",
      "[21-03-24 15:12:35 :INFO    ] - Finished output ./network_datasets/tutorial_data/south/train/00000025.tfrecord\n",
      "[21-03-24 15:12:35 :INFO    ] - Finished output ./network_datasets/tutorial_data/south/train/00000026.tfrecord\n",
      "[21-03-24 15:12:35 :INFO    ] - Finished output ./network_datasets/tutorial_data/south/train/00000027.tfrecord\n",
      "[21-03-24 15:12:35 :INFO    ] - Finished output ./network_datasets/tutorial_data/south/train/00000028.tfrecord\n",
      "[21-03-24 15:12:35 :INFO    ] - Finished output ./network_datasets/tutorial_data/south/train/00000029.tfrecord\n",
      "[21-03-24 15:12:35 :INFO    ] - Finished output ./network_datasets/tutorial_data/south/train/00000030.tfrecord\n",
      "[21-03-24 15:12:35 :INFO    ] - Finished output ./network_datasets/tutorial_data/south/train/00000031.tfrecord\n",
      "[21-03-24 15:12:48 :INFO    ] - Finished output ./network_datasets/tutorial_data/south/train/00000032.tfrecord\n",
      "[21-03-24 15:12:48 :INFO    ] - Finished output ./network_datasets/tutorial_data/south/train/00000033.tfrecord\n",
      "[21-03-24 15:12:48 :INFO    ] - Finished output ./network_datasets/tutorial_data/south/train/00000034.tfrecord\n",
      "[21-03-24 15:12:48 :INFO    ] - Finished output ./network_datasets/tutorial_data/south/train/00000035.tfrecord\n",
      "[21-03-24 15:12:48 :INFO    ] - Finished output ./network_datasets/tutorial_data/south/train/00000036.tfrecord\n",
      "[21-03-24 15:12:48 :INFO    ] - Finished output ./network_datasets/tutorial_data/south/train/00000037.tfrecord\n",
      "[21-03-24 15:12:48 :INFO    ] - Finished output ./network_datasets/tutorial_data/south/train/00000038.tfrecord\n",
      "[21-03-24 15:12:48 :INFO    ] - Finished output ./network_datasets/tutorial_data/south/train/00000039.tfrecord\n",
      "[21-03-24 15:12:58 :INFO    ] - Finished output ./network_datasets/tutorial_data/south/train/00000040.tfrecord\n",
      "[21-03-24 15:12:58 :INFO    ] - Finished output ./network_datasets/tutorial_data/south/train/00000041.tfrecord\n",
      "[21-03-24 15:12:58 :INFO    ] - Finished output ./network_datasets/tutorial_data/south/train/00000042.tfrecord\n",
      "[21-03-24 15:12:58 :INFO    ] - Finished output ./network_datasets/tutorial_data/south/train/00000043.tfrecord\n",
      "[21-03-24 15:12:58 :INFO    ] - Finished output ./network_datasets/tutorial_data/south/train/00000044.tfrecord\n",
      "[21-03-24 15:12:58 :INFO    ] - Finished output ./network_datasets/tutorial_data/south/train/00000045.tfrecord\n",
      "[21-03-24 15:12:58 :INFO    ] - 23 val dates to process, generating cache data.\n",
      "[21-03-24 15:13:11 :INFO    ] - Finished output ./network_datasets/tutorial_data/south/val/00000000.tfrecord\n",
      "[21-03-24 15:13:11 :INFO    ] - Finished output ./network_datasets/tutorial_data/south/val/00000001.tfrecord\n",
      "[21-03-24 15:13:11 :INFO    ] - Finished output ./network_datasets/tutorial_data/south/val/00000002.tfrecord\n",
      "[21-03-24 15:13:11 :INFO    ] - Finished output ./network_datasets/tutorial_data/south/val/00000003.tfrecord\n",
      "[21-03-24 15:13:11 :INFO    ] - Finished output ./network_datasets/tutorial_data/south/val/00000004.tfrecord\n",
      "[21-03-24 15:13:11 :INFO    ] - Finished output ./network_datasets/tutorial_data/south/val/00000005.tfrecord\n",
      "[21-03-24 15:13:11 :INFO    ] - Finished output ./network_datasets/tutorial_data/south/val/00000006.tfrecord\n",
      "[21-03-24 15:13:11 :INFO    ] - Finished output ./network_datasets/tutorial_data/south/val/00000007.tfrecord\n",
      "[21-03-24 15:13:18 :INFO    ] - Finished output ./network_datasets/tutorial_data/south/val/00000008.tfrecord\n",
      "[21-03-24 15:13:18 :INFO    ] - Finished output ./network_datasets/tutorial_data/south/val/00000009.tfrecord\n",
      "[21-03-24 15:13:18 :INFO    ] - Finished output ./network_datasets/tutorial_data/south/val/00000010.tfrecord\n",
      "[21-03-24 15:13:18 :INFO    ] - Finished output ./network_datasets/tutorial_data/south/val/00000011.tfrecord\n",
      "[21-03-24 15:13:18 :INFO    ] - 2 test dates to process, generating cache data.\n",
      "[21-03-24 15:13:22 :INFO    ] - Finished output ./network_datasets/tutorial_data/south/test/00000000.tfrecord\n",
      "[21-03-24 15:13:22 :INFO    ] - Average sample generation time: 4.601768684798274\n",
      "[21-03-24 15:13:22 :INFO    ] - Writing configuration to ./dataset_config.tutorial_data.json\n"
     ]
    }
   ],
   "source": [
    "!icenet_dataset_create tutorial_data south -l 1 -fd 7 -ob 2 -w 4"
   ]
  },
  {
   "cell_type": "markdown",
   "metadata": {
    "pycharm": {
     "name": "#%% md\n"
    },
    "tags": []
   },
   "source": [
    "#### Config-only operation / Prediction datasets\n",
    "\n",
    "Datasets used to predict don't benefit from caching, so adding the `-c` option and dropping `-w` and `-ob` will create a configuration for the dataset without writing sets to disk. You can also use this option to create a dataset that is fed directly from the preprocessed data, though bear in mind, depending on your infrastructure, that this requires the batches to be created on the fly and can have a significant impact on performance. By specifying `-fn` we ensure the dataset is given a different name to the previously cached one above (though this is more commonly used for prediction datasets where caching isn't necessary...) "
   ]
  },
  {
   "cell_type": "code",
   "execution_count": 8,
   "metadata": {
    "pycharm": {
     "name": "#%% md\n"
    },
    "tags": []
   },
   "outputs": [
    {
     "name": "stdout",
     "output_type": "stream",
     "text": [
      "[21-03-24 15:13:27 :INFO    ] - Got 0 dates for train\n",
      "[21-03-24 15:13:27 :INFO    ] - Got 0 dates for val\n",
      "[21-03-24 15:13:27 :INFO    ] - Got 0 dates for test\n",
      "[21-03-24 15:13:27 :INFO    ] - Creating path: ./network_datasets/tutorial_raw_dataset\n",
      "[21-03-24 15:13:27 :INFO    ] - Loading configuration loader.tutorial_data.json\n",
      "[21-03-24 15:13:27 :INFO    ] - Writing dataset configuration without data generation\n",
      "[21-03-24 15:13:27 :INFO    ] - 91 train dates in total, NOT generating cache data.\n",
      "[21-03-24 15:13:27 :INFO    ] - 23 val dates in total, NOT generating cache data.\n",
      "[21-03-24 15:13:27 :INFO    ] - 2 test dates in total, NOT generating cache data.\n",
      "[21-03-24 15:13:27 :INFO    ] - Writing configuration to ./dataset_config.tutorial_raw_dataset.json\n"
     ]
    }
   ],
   "source": [
    "!icenet_dataset_create -fd 7 -l 1 -c -fn tutorial_raw_dataset tutorial_data south"
   ]
  },
  {
   "cell_type": "markdown",
   "metadata": {
    "jp-MarkdownHeadingCollapsed": true,
    "pycharm": {
     "name": "#%% md\n"
    },
    "tags": []
   },
   "source": [
    "___\n",
    "## 4. Train\n",
    "\n",
    "Once the dataset is prepared, running a network is then as simple as using `icenet_train` with the appropriate parameters. Some key parameters are illustrated in the following commands:\n",
    " "
   ]
  },
  {
   "cell_type": "code",
   "execution_count": 9,
   "metadata": {},
   "outputs": [
    {
     "name": "stdout",
     "output_type": "stream",
     "text": [
      "usage: icenet_train [-h] [-b BATCH_SIZE] [-ca CHECKPOINT_MODE]\n",
      "                    [-cm CHECKPOINT_MONITOR] [-ds [ADDITIONAL ...]]\n",
      "                    [-e EPOCHS] [-f FILTER_SIZE]\n",
      "                    [--early-stopping EARLY_STOPPING] [-m]\n",
      "                    [-n N_FILTERS_FACTOR] [-p PRELOAD] [-pw]\n",
      "                    [-qs MAX_QUEUE_SIZE] [-r RATIO]\n",
      "                    [-s {default,mirrored,central}] [--shuffle-train]\n",
      "                    [--gpus GPUS] [-v] [-w WORKERS] [-nw] [-wo]\n",
      "                    [-wp WANDB_PROJECT] [-wu WANDB_USER] [--lr LR]\n",
      "                    [--lr_10e_decay_fac LR_10E_DECAY_FAC]\n",
      "                    [--lr_decay_start LR_DECAY_START]\n",
      "                    [--lr_decay_end LR_DECAY_END]\n",
      "                    dataset run_name seed\n",
      "\n",
      "positional arguments:\n",
      "  dataset\n",
      "  run_name\n",
      "  seed\n",
      "\n",
      "options:\n",
      "  -h, --help            show this help message and exit\n",
      "  -b BATCH_SIZE, --batch-size BATCH_SIZE\n",
      "  -ca CHECKPOINT_MODE, --checkpoint-mode CHECKPOINT_MODE\n",
      "  -cm CHECKPOINT_MONITOR, --checkpoint-monitor CHECKPOINT_MONITOR\n",
      "  -ds [ADDITIONAL ...], --additional-dataset [ADDITIONAL ...]\n",
      "  -e EPOCHS, --epochs EPOCHS\n",
      "  -f FILTER_SIZE, --filter-size FILTER_SIZE\n",
      "  --early-stopping EARLY_STOPPING\n",
      "  -m, --multiprocessing\n",
      "  -n N_FILTERS_FACTOR, --n-filters-factor N_FILTERS_FACTOR\n",
      "  -p PRELOAD, --preload PRELOAD\n",
      "  -pw, --pickup-weights\n",
      "  -qs MAX_QUEUE_SIZE, --max-queue-size MAX_QUEUE_SIZE\n",
      "  -r RATIO, --ratio RATIO\n",
      "  -s {default,mirrored,central}, --strategy {default,mirrored,central}\n",
      "  --shuffle-train       Shuffle the training set\n",
      "  --gpus GPUS\n",
      "  -v, --verbose\n",
      "  -w WORKERS, --workers WORKERS\n",
      "  -nw, --no-wandb\n",
      "  -wo, --wandb-offline\n",
      "  -wp WANDB_PROJECT, --wandb-project WANDB_PROJECT\n",
      "  -wu WANDB_USER, --wandb-user WANDB_USER\n",
      "  --lr LR\n",
      "  --lr_10e_decay_fac LR_10E_DECAY_FAC\n",
      "                        Factor by which LR is multiplied by every 10 epochs\n",
      "                        using exponential decay. E.g. 1 -> no decay (default),\n",
      "                        0.5 -> halve every 10 epochs.\n",
      "  --lr_decay_start LR_DECAY_START\n",
      "  --lr_decay_end LR_DECAY_END\n"
     ]
    }
   ],
   "source": [
    "!icenet_train --help"
   ]
  },
  {
   "cell_type": "markdown",
   "metadata": {},
   "source": [
    "The following runs demonstrate using the aforementioned dataset with the following options:\n",
    "\n",
    "* in `-b` batches of 2 (`-b 2`)\n",
    "* for a run of `-e` 10 epochs (`-e 10`)\n",
    "* using `-m` for multiprocessing we enable up to `-w` 4 process workers to load data at a time (`-w 4`)\n",
    "* into a data queue `-qs` of length 4 (`-qs 4`)\n",
    "* We could specify a `-r` ratio we use only 0.2x of the files from the dataset (_useful when testing on a low power machine with a large dataset, but unnecessary with our example here_) \n",
    "* supplying a UNet built with 0.6x the `-n` numbers of filters as normal. (`-n 0.6`)"
   ]
  },
  {
   "cell_type": "code",
   "execution_count": 10,
   "metadata": {
    "jp-MarkdownHeadingCollapsed": true,
    "pycharm": {
     "name": "#%% md\n"
    },
    "tags": []
   },
   "outputs": [
    {
     "name": "stdout",
     "output_type": "stream",
     "text": [
      "[21-03-24 15:13:34 :WARNING ] - Setting seed for best attempt at determinism, value 42\n",
      "[21-03-24 15:13:34 :INFO    ] - Loading configuration dataset_config.tutorial_data.json\n",
      "[21-03-24 15:13:34 :INFO    ] - Training dataset path: ./network_datasets/tutorial_data/south/train\n",
      "[21-03-24 15:13:34 :INFO    ] - Validation dataset path: ./network_datasets/tutorial_data/south/val\n",
      "[21-03-24 15:13:34 :INFO    ] - Test dataset path: ./network_datasets/tutorial_data/south/test\n",
      "[21-03-24 15:13:34 :WARNING ] - WandB is not available, we will never use it\n",
      "[21-03-24 15:13:34 :INFO    ] - Creating network folder: ./results/networks/tutorial_testrun\n",
      "[21-03-24 15:13:34 :INFO    ] - Adding tensorboard callback\n",
      "Model: \"model\"\n",
      "__________________________________________________________________________________________________\n",
      " Layer (type)                Output Shape                 Param #   Connected to                  \n",
      "==================================================================================================\n",
      " input_1 (InputLayer)        [(None, 432, 432, 9)]        0         []                            \n",
      "                                                                                                  \n",
      " conv2d (Conv2D)             (None, 432, 432, 38)         3116      ['input_1[0][0]']             \n",
      "                                                                                                  \n",
      " conv2d_1 (Conv2D)           (None, 432, 432, 38)         13034     ['conv2d[0][0]']              \n",
      "                                                                                                  \n",
      " batch_normalization (Batch  (None, 432, 432, 38)         152       ['conv2d_1[0][0]']            \n",
      " Normalization)                                                                                   \n",
      "                                                                                                  \n",
      " max_pooling2d (MaxPooling2  (None, 216, 216, 38)         0         ['batch_normalization[0][0]'] \n",
      " D)                                                                                               \n",
      "                                                                                                  \n",
      " conv2d_2 (Conv2D)           (None, 216, 216, 76)         26068     ['max_pooling2d[0][0]']       \n",
      "                                                                                                  \n",
      " conv2d_3 (Conv2D)           (None, 216, 216, 76)         52060     ['conv2d_2[0][0]']            \n",
      "                                                                                                  \n",
      " batch_normalization_1 (Bat  (None, 216, 216, 76)         304       ['conv2d_3[0][0]']            \n",
      " chNormalization)                                                                                 \n",
      "                                                                                                  \n",
      " max_pooling2d_1 (MaxPoolin  (None, 108, 108, 76)         0         ['batch_normalization_1[0][0]'\n",
      " g2D)                                                               ]                             \n",
      "                                                                                                  \n",
      " conv2d_4 (Conv2D)           (None, 108, 108, 152)        104120    ['max_pooling2d_1[0][0]']     \n",
      "                                                                                                  \n",
      " conv2d_5 (Conv2D)           (None, 108, 108, 152)        208088    ['conv2d_4[0][0]']            \n",
      "                                                                                                  \n",
      " batch_normalization_2 (Bat  (None, 108, 108, 152)        608       ['conv2d_5[0][0]']            \n",
      " chNormalization)                                                                                 \n",
      "                                                                                                  \n",
      " max_pooling2d_2 (MaxPoolin  (None, 54, 54, 152)          0         ['batch_normalization_2[0][0]'\n",
      " g2D)                                                               ]                             \n",
      "                                                                                                  \n",
      " conv2d_6 (Conv2D)           (None, 54, 54, 152)          208088    ['max_pooling2d_2[0][0]']     \n",
      "                                                                                                  \n",
      " conv2d_7 (Conv2D)           (None, 54, 54, 152)          208088    ['conv2d_6[0][0]']            \n",
      "                                                                                                  \n",
      " batch_normalization_3 (Bat  (None, 54, 54, 152)          608       ['conv2d_7[0][0]']            \n",
      " chNormalization)                                                                                 \n",
      "                                                                                                  \n",
      " max_pooling2d_3 (MaxPoolin  (None, 27, 27, 152)          0         ['batch_normalization_3[0][0]'\n",
      " g2D)                                                               ]                             \n",
      "                                                                                                  \n",
      " conv2d_8 (Conv2D)           (None, 27, 27, 304)          416176    ['max_pooling2d_3[0][0]']     \n",
      "                                                                                                  \n",
      " conv2d_9 (Conv2D)           (None, 27, 27, 304)          832048    ['conv2d_8[0][0]']            \n",
      "                                                                                                  \n",
      " batch_normalization_4 (Bat  (None, 27, 27, 304)          1216      ['conv2d_9[0][0]']            \n",
      " chNormalization)                                                                                 \n",
      "                                                                                                  \n",
      " up_sampling2d (UpSampling2  (None, 54, 54, 304)          0         ['batch_normalization_4[0][0]'\n",
      " D)                                                                 ]                             \n",
      "                                                                                                  \n",
      " conv2d_10 (Conv2D)          (None, 54, 54, 152)          184984    ['up_sampling2d[0][0]']       \n",
      "                                                                                                  \n",
      " concatenate (Concatenate)   (None, 54, 54, 304)          0         ['batch_normalization_3[0][0]'\n",
      "                                                                    , 'conv2d_10[0][0]']          \n",
      "                                                                                                  \n",
      " conv2d_11 (Conv2D)          (None, 54, 54, 152)          416024    ['concatenate[0][0]']         \n",
      "                                                                                                  \n",
      " conv2d_12 (Conv2D)          (None, 54, 54, 152)          208088    ['conv2d_11[0][0]']           \n",
      "                                                                                                  \n",
      " batch_normalization_5 (Bat  (None, 54, 54, 152)          608       ['conv2d_12[0][0]']           \n",
      " chNormalization)                                                                                 \n",
      "                                                                                                  \n",
      " up_sampling2d_1 (UpSamplin  (None, 108, 108, 152)        0         ['batch_normalization_5[0][0]'\n",
      " g2D)                                                               ]                             \n",
      "                                                                                                  \n",
      " conv2d_13 (Conv2D)          (None, 108, 108, 152)        92568     ['up_sampling2d_1[0][0]']     \n",
      "                                                                                                  \n",
      " concatenate_1 (Concatenate  (None, 108, 108, 304)        0         ['batch_normalization_2[0][0]'\n",
      " )                                                                  , 'conv2d_13[0][0]']          \n",
      "                                                                                                  \n",
      " conv2d_14 (Conv2D)          (None, 108, 108, 152)        416024    ['concatenate_1[0][0]']       \n",
      "                                                                                                  \n",
      " conv2d_15 (Conv2D)          (None, 108, 108, 152)        208088    ['conv2d_14[0][0]']           \n",
      "                                                                                                  \n",
      " batch_normalization_6 (Bat  (None, 108, 108, 152)        608       ['conv2d_15[0][0]']           \n",
      " chNormalization)                                                                                 \n",
      "                                                                                                  \n",
      " up_sampling2d_2 (UpSamplin  (None, 216, 216, 152)        0         ['batch_normalization_6[0][0]'\n",
      " g2D)                                                               ]                             \n",
      "                                                                                                  \n",
      " conv2d_16 (Conv2D)          (None, 216, 216, 76)         46284     ['up_sampling2d_2[0][0]']     \n",
      "                                                                                                  \n",
      " concatenate_2 (Concatenate  (None, 216, 216, 152)        0         ['batch_normalization_1[0][0]'\n",
      " )                                                                  , 'conv2d_16[0][0]']          \n",
      "                                                                                                  \n",
      " conv2d_17 (Conv2D)          (None, 216, 216, 76)         104044    ['concatenate_2[0][0]']       \n",
      "                                                                                                  \n",
      " conv2d_18 (Conv2D)          (None, 216, 216, 76)         52060     ['conv2d_17[0][0]']           \n",
      "                                                                                                  \n",
      " batch_normalization_7 (Bat  (None, 216, 216, 76)         304       ['conv2d_18[0][0]']           \n",
      " chNormalization)                                                                                 \n",
      "                                                                                                  \n",
      " up_sampling2d_3 (UpSamplin  (None, 432, 432, 76)         0         ['batch_normalization_7[0][0]'\n",
      " g2D)                                                               ]                             \n",
      "                                                                                                  \n",
      " conv2d_19 (Conv2D)          (None, 432, 432, 38)         11590     ['up_sampling2d_3[0][0]']     \n",
      "                                                                                                  \n",
      " concatenate_3 (Concatenate  (None, 432, 432, 76)         0         ['conv2d_1[0][0]',            \n",
      " )                                                                   'conv2d_19[0][0]']           \n",
      "                                                                                                  \n",
      " conv2d_20 (Conv2D)          (None, 432, 432, 38)         26030     ['concatenate_3[0][0]']       \n",
      "                                                                                                  \n",
      " conv2d_21 (Conv2D)          (None, 432, 432, 38)         13034     ['conv2d_20[0][0]']           \n",
      "                                                                                                  \n",
      " conv2d_22 (Conv2D)          (None, 432, 432, 38)         13034     ['conv2d_21[0][0]']           \n",
      "                                                                                                  \n",
      " conv2d_23 (Conv2D)          (None, 432, 432, 7)          273       ['conv2d_22[0][0]']           \n",
      "                                                                                                  \n",
      "==================================================================================================\n",
      "Total params: 3867419 (14.75 MB)\n",
      "Trainable params: 3865215 (14.74 MB)\n",
      "Non-trainable params: 2204 (8.61 KB)\n",
      "__________________________________________________________________________________________________\n",
      "[21-03-24 15:13:35 :INFO    ] - Datasets: 46 train, 12 val and 1 test filenames\n",
      "[21-03-24 15:13:35 :INFO    ] - Reducing datasets to 1.0 of total files\n",
      "[21-03-24 15:13:35 :INFO    ] - Reduced: 46 train, 12 val and 1 test filenames\n",
      "[21-03-24 15:13:36 :INFO    ] - \n",
      "Setting learning rate to: 9.999999747378752e-05\n",
      "\n",
      "Epoch 1/10\n",
      "WARNING: All log messages before absl::InitializeLog() is called are written to STDERR\n",
      "I0000 00:00:1711034025.021326   37389 device_compiler.h:186] Compiled cluster using XLA!  This line is logged at most once for the lifetime of the process.\n",
      "\n",
      "Epoch 1: val_rmse improved from inf to 41.43242, saving model to ./results/networks/tutorial_testrun/tutorial_testrun.network_tutorial_data.42.h5\n",
      "46/46 - 63s - loss: 184.5616 - binacc: 51.7039 - mae: 25.1638 - rmse: 31.8622 - mse: 2162.3643 - val_loss: 312.0839 - val_binacc: 36.9813 - val_mae: 39.4448 - val_rmse: 41.4324 - val_mse: 2189.9832 - lr: 1.0000e-04 - 63s/epoch - 1s/step\n",
      "[21-03-24 15:14:39 :INFO    ] - \n",
      "Setting learning rate to: 9.999999747378752e-05\n",
      "\n",
      "Epoch 2/10\n",
      "\n",
      "Epoch 2: val_rmse did not improve from 41.43242\n",
      "46/46 - 15s - loss: 21.2413 - binacc: 94.2740 - mae: 5.7894 - rmse: 10.8092 - mse: 1510.8584 - val_loss: 388.2511 - val_binacc: 36.9805 - val_mae: 43.9518 - val_rmse: 46.2127 - val_mse: 2525.7666 - lr: 1.0000e-04 - 15s/epoch - 321ms/step\n",
      "[21-03-24 15:14:53 :INFO    ] - \n",
      "Setting learning rate to: 9.999999747378752e-05\n",
      "\n",
      "Epoch 3/10\n",
      "\n",
      "Epoch 3: val_rmse did not improve from 41.43242\n",
      "46/46 - 15s - loss: 13.3892 - binacc: 95.8878 - mae: 4.1703 - rmse: 8.5819 - mse: 1406.2244 - val_loss: 318.0670 - val_binacc: 40.1286 - val_mae: 38.7249 - val_rmse: 41.8277 - val_mse: 2026.8174 - lr: 1.0000e-04 - 15s/epoch - 321ms/step\n",
      "[21-03-24 15:15:08 :INFO    ] - \n",
      "Setting learning rate to: 9.999999747378752e-05\n",
      "\n",
      "Epoch 4/10\n",
      "\n",
      "Epoch 4: val_rmse improved from 41.43242 to 33.59001, saving model to ./results/networks/tutorial_testrun/tutorial_testrun.network_tutorial_data.42.h5\n",
      "46/46 - 15s - loss: 12.3299 - binacc: 96.2625 - mae: 3.7479 - rmse: 8.2354 - mse: 1392.7987 - val_loss: 205.1215 - val_binacc: 84.8785 - val_mae: 22.3191 - val_rmse: 33.5900 - val_mse: 1133.4498 - lr: 1.0000e-04 - 15s/epoch - 329ms/step\n",
      "[21-03-24 15:15:23 :INFO    ] - \n",
      "Setting learning rate to: 9.999999747378752e-05\n",
      "\n",
      "Epoch 5/10\n",
      "\n",
      "Epoch 5: val_rmse improved from 33.59001 to 28.54059, saving model to ./results/networks/tutorial_testrun/tutorial_testrun.network_tutorial_data.42.h5\n",
      "46/46 - 15s - loss: 9.9170 - binacc: 96.7583 - mae: 3.3415 - rmse: 7.3858 - mse: 1298.2325 - val_loss: 148.0869 - val_binacc: 91.2789 - val_mae: 17.7167 - val_rmse: 28.5406 - val_mse: 805.1600 - lr: 1.0000e-04 - 15s/epoch - 327ms/step\n",
      "[21-03-24 15:15:38 :INFO    ] - \n",
      "Setting learning rate to: 9.999999747378752e-05\n",
      "\n",
      "Epoch 6/10\n",
      "\n",
      "Epoch 6: val_rmse improved from 28.54059 to 25.07434, saving model to ./results/networks/tutorial_testrun/tutorial_testrun.network_tutorial_data.42.h5\n",
      "46/46 - 15s - loss: 8.7716 - binacc: 96.9930 - mae: 3.1066 - rmse: 6.9461 - mse: 1289.2050 - val_loss: 114.3009 - val_binacc: 93.4236 - val_mae: 15.3816 - val_rmse: 25.0743 - val_mse: 561.2670 - lr: 1.0000e-04 - 15s/epoch - 326ms/step\n",
      "[21-03-24 15:15:53 :INFO    ] - \n",
      "Setting learning rate to: 9.999999747378752e-05\n",
      "\n",
      "Epoch 7/10\n",
      "\n",
      "Epoch 7: val_rmse improved from 25.07434 to 22.46310, saving model to ./results/networks/tutorial_testrun/tutorial_testrun.network_tutorial_data.42.h5\n",
      "46/46 - 15s - loss: 8.0541 - binacc: 97.1741 - mae: 2.9530 - rmse: 6.6560 - mse: 1270.1580 - val_loss: 91.7339 - val_binacc: 94.3418 - val_mae: 13.6262 - val_rmse: 22.4631 - val_mse: 391.2256 - lr: 1.0000e-04 - 15s/epoch - 328ms/step\n",
      "[21-03-24 15:16:09 :INFO    ] - \n",
      "Setting learning rate to: 9.999999747378752e-05\n",
      "\n",
      "Epoch 8/10\n",
      "\n",
      "Epoch 8: val_rmse improved from 22.46310 to 20.90131, saving model to ./results/networks/tutorial_testrun/tutorial_testrun.network_tutorial_data.42.h5\n",
      "46/46 - 15s - loss: 7.2689 - binacc: 97.3351 - mae: 2.7975 - rmse: 6.3232 - mse: 1216.0027 - val_loss: 79.4215 - val_binacc: 94.7749 - val_mae: 12.5237 - val_rmse: 20.9013 - val_mse: 304.5915 - lr: 1.0000e-04 - 15s/epoch - 325ms/step\n",
      "[21-03-24 15:16:24 :INFO    ] - \n",
      "Setting learning rate to: 9.999999747378752e-05\n",
      "\n",
      "Epoch 9/10\n",
      "\n",
      "Epoch 9: val_rmse improved from 20.90131 to 18.24556, saving model to ./results/networks/tutorial_testrun/tutorial_testrun.network_tutorial_data.42.h5\n",
      "46/46 - 15s - loss: 6.7880 - binacc: 97.4346 - mae: 2.6816 - rmse: 6.1105 - mse: 1184.6681 - val_loss: 60.5209 - val_binacc: 95.2057 - val_mae: 10.7220 - val_rmse: 18.2456 - val_mse: 256.9927 - lr: 1.0000e-04 - 15s/epoch - 328ms/step\n",
      "[21-03-24 15:16:39 :INFO    ] - \n",
      "Setting learning rate to: 9.999999747378752e-05\n",
      "\n",
      "Epoch 10/10\n",
      "\n",
      "Epoch 10: val_rmse improved from 18.24556 to 15.73118, saving model to ./results/networks/tutorial_testrun/tutorial_testrun.network_tutorial_data.42.h5\n",
      "46/46 - 15s - loss: 6.4222 - binacc: 97.5066 - mae: 2.5991 - rmse: 5.9435 - mse: 1117.8456 - val_loss: 44.9898 - val_binacc: 95.7842 - val_mae: 9.1840 - val_rmse: 15.7312 - val_mse: 211.5117 - lr: 1.0000e-04 - 15s/epoch - 326ms/step\n",
      "[21-03-24 15:16:54 :INFO    ] - Saving network to: ./results/networks/tutorial_testrun/tutorial_testrun.network_tutorial_data.42.h5\n",
      "[21-03-24 15:16:57 :INFO    ] - Running evaluation against test set\n",
      "WARNING:tensorflow:Unable to restore custom metric. Please ensure that the layer implements `get_config` and `from_config` when saving. In addition, please use the `custom_objects` arg when calling `load_model()`.\n",
      "[21-03-24 15:16:57 :WARNING ] - Unable to restore custom metric. Please ensure that the layer implements `get_config` and `from_config` when saving. In addition, please use the `custom_objects` arg when calling `load_model()`.\n",
      "WARNING:tensorflow:Unable to restore custom metric. Please ensure that the layer implements `get_config` and `from_config` when saving. In addition, please use the `custom_objects` arg when calling `load_model()`.\n",
      "[21-03-24 15:16:57 :WARNING ] - Unable to restore custom metric. Please ensure that the layer implements `get_config` and `from_config` when saving. In addition, please use the `custom_objects` arg when calling `load_model()`.\n",
      "WARNING:tensorflow:Unable to restore custom metric. Please ensure that the layer implements `get_config` and `from_config` when saving. In addition, please use the `custom_objects` arg when calling `load_model()`.\n",
      "[21-03-24 15:16:57 :WARNING ] - Unable to restore custom metric. Please ensure that the layer implements `get_config` and `from_config` when saving. In addition, please use the `custom_objects` arg when calling `load_model()`.\n",
      "WARNING:tensorflow:Unable to restore custom metric. Please ensure that the layer implements `get_config` and `from_config` when saving. In addition, please use the `custom_objects` arg when calling `load_model()`.\n",
      "[21-03-24 15:16:57 :WARNING ] - Unable to restore custom metric. Please ensure that the layer implements `get_config` and `from_config` when saving. In addition, please use the `custom_objects` arg when calling `load_model()`.\n",
      "[21-03-24 15:16:59 :INFO    ] - Datasets: 46 train, 12 val and 1 test filenames\n",
      "[21-03-24 15:16:59 :INFO    ] - Reducing datasets to 1.0 of total files\n",
      "[21-03-24 15:16:59 :INFO    ] - Reduced: 46 train, 12 val and 1 test filenames\n",
      "[21-03-24 15:16:59 :INFO    ] - Using test set for validation\n",
      "[21-03-24 15:16:59 :INFO    ] - Metric creation for lead time of 7 days\n",
      "[21-03-24 15:16:59 :INFO    ] - Evaluating... \n",
      "[21-03-24 15:17:01 :INFO    ] - Done in 2.1s\n"
     ]
    }
   ],
   "source": [
    "!icenet_train tutorial_data tutorial_testrun 42 -b 2 -e 10 -m -qs 4 -w 4 -n 0.6 -nw"
   ]
  },
  {
   "cell_type": "markdown",
   "metadata": {},
   "source": [
    "In this second command, we can pick up the training from the previous run above and continue training for another 2 epochs, as set by the `-e 2` option.\n",
    "\n",
    "This can be useful when wanting to continue training runs after having run them previously (if say for example you realised later down the line that you did not run for long enough, or due to resource constraints or any other reason, you had to stop)."
   ]
  },
  {
   "cell_type": "code",
   "execution_count": 11,
   "metadata": {
    "jp-MarkdownHeadingCollapsed": true,
    "pycharm": {
     "name": "#%% md\n"
    },
    "tags": []
   },
   "outputs": [
    {
     "name": "stdout",
     "output_type": "stream",
     "text": [
      "[21-03-24 15:17:08 :WARNING ] - Setting seed for best attempt at determinism, value 42\n",
      "[21-03-24 15:17:08 :INFO    ] - Loading configuration dataset_config.tutorial_data.json\n",
      "[21-03-24 15:17:08 :INFO    ] - Training dataset path: ./network_datasets/tutorial_data/south/train\n",
      "[21-03-24 15:17:08 :INFO    ] - Validation dataset path: ./network_datasets/tutorial_data/south/val\n",
      "[21-03-24 15:17:08 :INFO    ] - Test dataset path: ./network_datasets/tutorial_data/south/test\n",
      "[21-03-24 15:17:08 :WARNING ] - WandB is not available, we will never use it\n",
      "[21-03-24 15:17:08 :INFO    ] - Adding tensorboard callback\n",
      "[21-03-24 15:17:08 :INFO    ] - Loading network weights from ./results/networks/tutorial_testrun/tutorial_testrun.network_tutorial_data.42.h5\n",
      "Model: \"model\"\n",
      "__________________________________________________________________________________________________\n",
      " Layer (type)                Output Shape                 Param #   Connected to                  \n",
      "==================================================================================================\n",
      " input_1 (InputLayer)        [(None, 432, 432, 9)]        0         []                            \n",
      "                                                                                                  \n",
      " conv2d (Conv2D)             (None, 432, 432, 38)         3116      ['input_1[0][0]']             \n",
      "                                                                                                  \n",
      " conv2d_1 (Conv2D)           (None, 432, 432, 38)         13034     ['conv2d[0][0]']              \n",
      "                                                                                                  \n",
      " batch_normalization (Batch  (None, 432, 432, 38)         152       ['conv2d_1[0][0]']            \n",
      " Normalization)                                                                                   \n",
      "                                                                                                  \n",
      " max_pooling2d (MaxPooling2  (None, 216, 216, 38)         0         ['batch_normalization[0][0]'] \n",
      " D)                                                                                               \n",
      "                                                                                                  \n",
      " conv2d_2 (Conv2D)           (None, 216, 216, 76)         26068     ['max_pooling2d[0][0]']       \n",
      "                                                                                                  \n",
      " conv2d_3 (Conv2D)           (None, 216, 216, 76)         52060     ['conv2d_2[0][0]']            \n",
      "                                                                                                  \n",
      " batch_normalization_1 (Bat  (None, 216, 216, 76)         304       ['conv2d_3[0][0]']            \n",
      " chNormalization)                                                                                 \n",
      "                                                                                                  \n",
      " max_pooling2d_1 (MaxPoolin  (None, 108, 108, 76)         0         ['batch_normalization_1[0][0]'\n",
      " g2D)                                                               ]                             \n",
      "                                                                                                  \n",
      " conv2d_4 (Conv2D)           (None, 108, 108, 152)        104120    ['max_pooling2d_1[0][0]']     \n",
      "                                                                                                  \n",
      " conv2d_5 (Conv2D)           (None, 108, 108, 152)        208088    ['conv2d_4[0][0]']            \n",
      "                                                                                                  \n",
      " batch_normalization_2 (Bat  (None, 108, 108, 152)        608       ['conv2d_5[0][0]']            \n",
      " chNormalization)                                                                                 \n",
      "                                                                                                  \n",
      " max_pooling2d_2 (MaxPoolin  (None, 54, 54, 152)          0         ['batch_normalization_2[0][0]'\n",
      " g2D)                                                               ]                             \n",
      "                                                                                                  \n",
      " conv2d_6 (Conv2D)           (None, 54, 54, 152)          208088    ['max_pooling2d_2[0][0]']     \n",
      "                                                                                                  \n",
      " conv2d_7 (Conv2D)           (None, 54, 54, 152)          208088    ['conv2d_6[0][0]']            \n",
      "                                                                                                  \n",
      " batch_normalization_3 (Bat  (None, 54, 54, 152)          608       ['conv2d_7[0][0]']            \n",
      " chNormalization)                                                                                 \n",
      "                                                                                                  \n",
      " max_pooling2d_3 (MaxPoolin  (None, 27, 27, 152)          0         ['batch_normalization_3[0][0]'\n",
      " g2D)                                                               ]                             \n",
      "                                                                                                  \n",
      " conv2d_8 (Conv2D)           (None, 27, 27, 304)          416176    ['max_pooling2d_3[0][0]']     \n",
      "                                                                                                  \n",
      " conv2d_9 (Conv2D)           (None, 27, 27, 304)          832048    ['conv2d_8[0][0]']            \n",
      "                                                                                                  \n",
      " batch_normalization_4 (Bat  (None, 27, 27, 304)          1216      ['conv2d_9[0][0]']            \n",
      " chNormalization)                                                                                 \n",
      "                                                                                                  \n",
      " up_sampling2d (UpSampling2  (None, 54, 54, 304)          0         ['batch_normalization_4[0][0]'\n",
      " D)                                                                 ]                             \n",
      "                                                                                                  \n",
      " conv2d_10 (Conv2D)          (None, 54, 54, 152)          184984    ['up_sampling2d[0][0]']       \n",
      "                                                                                                  \n",
      " concatenate (Concatenate)   (None, 54, 54, 304)          0         ['batch_normalization_3[0][0]'\n",
      "                                                                    , 'conv2d_10[0][0]']          \n",
      "                                                                                                  \n",
      " conv2d_11 (Conv2D)          (None, 54, 54, 152)          416024    ['concatenate[0][0]']         \n",
      "                                                                                                  \n",
      " conv2d_12 (Conv2D)          (None, 54, 54, 152)          208088    ['conv2d_11[0][0]']           \n",
      "                                                                                                  \n",
      " batch_normalization_5 (Bat  (None, 54, 54, 152)          608       ['conv2d_12[0][0]']           \n",
      " chNormalization)                                                                                 \n",
      "                                                                                                  \n",
      " up_sampling2d_1 (UpSamplin  (None, 108, 108, 152)        0         ['batch_normalization_5[0][0]'\n",
      " g2D)                                                               ]                             \n",
      "                                                                                                  \n",
      " conv2d_13 (Conv2D)          (None, 108, 108, 152)        92568     ['up_sampling2d_1[0][0]']     \n",
      "                                                                                                  \n",
      " concatenate_1 (Concatenate  (None, 108, 108, 304)        0         ['batch_normalization_2[0][0]'\n",
      " )                                                                  , 'conv2d_13[0][0]']          \n",
      "                                                                                                  \n",
      " conv2d_14 (Conv2D)          (None, 108, 108, 152)        416024    ['concatenate_1[0][0]']       \n",
      "                                                                                                  \n",
      " conv2d_15 (Conv2D)          (None, 108, 108, 152)        208088    ['conv2d_14[0][0]']           \n",
      "                                                                                                  \n",
      " batch_normalization_6 (Bat  (None, 108, 108, 152)        608       ['conv2d_15[0][0]']           \n",
      " chNormalization)                                                                                 \n",
      "                                                                                                  \n",
      " up_sampling2d_2 (UpSamplin  (None, 216, 216, 152)        0         ['batch_normalization_6[0][0]'\n",
      " g2D)                                                               ]                             \n",
      "                                                                                                  \n",
      " conv2d_16 (Conv2D)          (None, 216, 216, 76)         46284     ['up_sampling2d_2[0][0]']     \n",
      "                                                                                                  \n",
      " concatenate_2 (Concatenate  (None, 216, 216, 152)        0         ['batch_normalization_1[0][0]'\n",
      " )                                                                  , 'conv2d_16[0][0]']          \n",
      "                                                                                                  \n",
      " conv2d_17 (Conv2D)          (None, 216, 216, 76)         104044    ['concatenate_2[0][0]']       \n",
      "                                                                                                  \n",
      " conv2d_18 (Conv2D)          (None, 216, 216, 76)         52060     ['conv2d_17[0][0]']           \n",
      "                                                                                                  \n",
      " batch_normalization_7 (Bat  (None, 216, 216, 76)         304       ['conv2d_18[0][0]']           \n",
      " chNormalization)                                                                                 \n",
      "                                                                                                  \n",
      " up_sampling2d_3 (UpSamplin  (None, 432, 432, 76)         0         ['batch_normalization_7[0][0]'\n",
      " g2D)                                                               ]                             \n",
      "                                                                                                  \n",
      " conv2d_19 (Conv2D)          (None, 432, 432, 38)         11590     ['up_sampling2d_3[0][0]']     \n",
      "                                                                                                  \n",
      " concatenate_3 (Concatenate  (None, 432, 432, 76)         0         ['conv2d_1[0][0]',            \n",
      " )                                                                   'conv2d_19[0][0]']           \n",
      "                                                                                                  \n",
      " conv2d_20 (Conv2D)          (None, 432, 432, 38)         26030     ['concatenate_3[0][0]']       \n",
      "                                                                                                  \n",
      " conv2d_21 (Conv2D)          (None, 432, 432, 38)         13034     ['conv2d_20[0][0]']           \n",
      "                                                                                                  \n",
      " conv2d_22 (Conv2D)          (None, 432, 432, 38)         13034     ['conv2d_21[0][0]']           \n",
      "                                                                                                  \n",
      " conv2d_23 (Conv2D)          (None, 432, 432, 7)          273       ['conv2d_22[0][0]']           \n",
      "                                                                                                  \n",
      "==================================================================================================\n",
      "Total params: 3867419 (14.75 MB)\n",
      "Trainable params: 3865215 (14.74 MB)\n",
      "Non-trainable params: 2204 (8.61 KB)\n",
      "__________________________________________________________________________________________________\n",
      "[21-03-24 15:17:08 :INFO    ] - Datasets: 46 train, 12 val and 1 test filenames\n",
      "[21-03-24 15:17:08 :INFO    ] - Reducing datasets to 1.0 of total files\n",
      "[21-03-24 15:17:08 :INFO    ] - Reduced: 46 train, 12 val and 1 test filenames\n",
      "[21-03-24 15:17:09 :INFO    ] - \n",
      "Setting learning rate to: 9.999999747378752e-05\n",
      "\n",
      "Epoch 1/2\n",
      "WARNING: All log messages before absl::InitializeLog() is called are written to STDERR\n",
      "I0000 00:00:1711034238.661970   46526 device_compiler.h:186] Compiled cluster using XLA!  This line is logged at most once for the lifetime of the process.\n",
      "\n",
      "Epoch 1: val_rmse improved from inf to 17.78234, saving model to ./results/networks/tutorial_testrun/tutorial_testrun.network_tutorial_data.42.h5\n",
      "46/46 - 63s - loss: 5.8350 - binacc: 97.6198 - mae: 2.4234 - rmse: 5.6653 - mse: 1041.9235 - val_loss: 57.4869 - val_binacc: 94.1485 - val_mae: 9.8198 - val_rmse: 17.7823 - val_mse: 153.7336 - lr: 1.0000e-04 - 63s/epoch - 1s/step\n",
      "[21-03-24 15:18:12 :INFO    ] - \n",
      "Setting learning rate to: 9.999999747378752e-05\n",
      "\n",
      "Epoch 2/2\n",
      "\n",
      "Epoch 2: val_rmse improved from 17.78234 to 14.65907, saving model to ./results/networks/tutorial_testrun/tutorial_testrun.network_tutorial_data.42.h5\n",
      "46/46 - 15s - loss: 5.3825 - binacc: 97.7145 - mae: 2.2853 - rmse: 5.4412 - mse: 986.3909 - val_loss: 39.0664 - val_binacc: 95.3354 - val_mae: 8.6709 - val_rmse: 14.6591 - val_mse: 173.8712 - lr: 1.0000e-04 - 15s/epoch - 326ms/step\n",
      "[21-03-24 15:18:27 :INFO    ] - Saving network to: ./results/networks/tutorial_testrun/tutorial_testrun.network_tutorial_data.42.h5\n",
      "[21-03-24 15:18:31 :INFO    ] - Running evaluation against test set\n",
      "WARNING:tensorflow:Unable to restore custom metric. Please ensure that the layer implements `get_config` and `from_config` when saving. In addition, please use the `custom_objects` arg when calling `load_model()`.\n",
      "[21-03-24 15:18:31 :WARNING ] - Unable to restore custom metric. Please ensure that the layer implements `get_config` and `from_config` when saving. In addition, please use the `custom_objects` arg when calling `load_model()`.\n",
      "WARNING:tensorflow:Unable to restore custom metric. Please ensure that the layer implements `get_config` and `from_config` when saving. In addition, please use the `custom_objects` arg when calling `load_model()`.\n",
      "[21-03-24 15:18:31 :WARNING ] - Unable to restore custom metric. Please ensure that the layer implements `get_config` and `from_config` when saving. In addition, please use the `custom_objects` arg when calling `load_model()`.\n",
      "WARNING:tensorflow:Unable to restore custom metric. Please ensure that the layer implements `get_config` and `from_config` when saving. In addition, please use the `custom_objects` arg when calling `load_model()`.\n",
      "[21-03-24 15:18:31 :WARNING ] - Unable to restore custom metric. Please ensure that the layer implements `get_config` and `from_config` when saving. In addition, please use the `custom_objects` arg when calling `load_model()`.\n",
      "WARNING:tensorflow:Unable to restore custom metric. Please ensure that the layer implements `get_config` and `from_config` when saving. In addition, please use the `custom_objects` arg when calling `load_model()`.\n",
      "[21-03-24 15:18:31 :WARNING ] - Unable to restore custom metric. Please ensure that the layer implements `get_config` and `from_config` when saving. In addition, please use the `custom_objects` arg when calling `load_model()`.\n",
      "[21-03-24 15:18:32 :INFO    ] - Datasets: 46 train, 12 val and 1 test filenames\n",
      "[21-03-24 15:18:32 :INFO    ] - Reducing datasets to 1.0 of total files\n",
      "[21-03-24 15:18:32 :INFO    ] - Reduced: 46 train, 12 val and 1 test filenames\n",
      "[21-03-24 15:18:32 :INFO    ] - Using test set for validation\n",
      "[21-03-24 15:18:32 :INFO    ] - Metric creation for lead time of 7 days\n",
      "[21-03-24 15:18:32 :INFO    ] - Evaluating... \n",
      "[21-03-24 15:18:34 :INFO    ] - Done in 2.0s\n"
     ]
    }
   ],
   "source": [
    "!icenet_train tutorial_data tutorial_testrun 42 -b 2 -e 2 -m -qs 4 -w 4 -n 0.6 -nw \\\n",
    "    -p ./results/networks/tutorial_testrun/tutorial_testrun.network_tutorial_data.42.h5 "
   ]
  },
  {
   "cell_type": "markdown",
   "metadata": {},
   "source": [
    "### Notes on training and prediction\n",
    "\n",
    "There are a few things to note about the `icenet_train` and `icenet_predict` (see [the prediction section below](#Predict)) commands and the switches they provide: \n",
    "\n",
    "* Common switches such as `-n` should be applied consistently between training and prediction. \n",
    "* These commands work with __individual network runs__ (see the next section)."
   ]
  },
  {
   "cell_type": "markdown",
   "metadata": {
    "pycharm": {
     "name": "#%% md\n"
    },
    "tags": []
   },
   "source": [
    "___\n",
    "## 5. Predict\n",
    "\n",
    "To run individual sets through the test network from the test dataset we produced earlier can be easily achieved. The steps are to create a date file, which can be produced from the configuration created by `icenet_process` in the [processing section](#Process). This date file then can be supplied to the `icenet_predict` command to produce files using either cached data (useful for test data prepared at the same time as the training and validation sets) or directly from the normalised data (as is the case for nearly all data that isn't part of the training run.)"
   ]
  },
  {
   "cell_type": "markdown",
   "metadata": {},
   "source": [
    "`icenet_predict` takes a file containing dates to make predictions for. First we can make a file, here called `testdates.csv` to pass to `icenet_predict` in the next step. (Note that the more advanced IceNet Pipeline method uses a more elegant system for providing dates; or if using the python interface, can be provided to the `predict_forecast` function as a list of dates - see 03.library_usage)"
   ]
  },
  {
   "cell_type": "code",
   "execution_count": 12,
   "metadata": {
    "pycharm": {
     "name": "#%% md\n"
    },
    "tags": []
   },
   "outputs": [
    {
     "name": "stdout",
     "output_type": "stream",
     "text": [
      "2020-04-01\n",
      "2020-04-02"
     ]
    }
   ],
   "source": [
    "!printf \"2020-04-01\\n2020-04-02\" | tee testdates.csv"
   ]
  },
  {
   "cell_type": "code",
   "execution_count": 13,
   "metadata": {},
   "outputs": [
    {
     "name": "stdout",
     "output_type": "stream",
     "text": [
      "usage: icenet_predict [-h] [-i IDENT] [-n N_FILTERS_FACTOR] [-t] [-v] [-s]\n",
      "                      dataset network_name output_name seed datefile\n",
      "\n",
      "positional arguments:\n",
      "  dataset\n",
      "  network_name\n",
      "  output_name\n",
      "  seed\n",
      "  datefile\n",
      "\n",
      "options:\n",
      "  -h, --help            show this help message and exit\n",
      "  -i IDENT, --train-identifier IDENT\n",
      "                        Train dataset identifier\n",
      "  -n N_FILTERS_FACTOR, --n-filters-factor N_FILTERS_FACTOR\n",
      "  -t, --testset\n",
      "  -v, --verbose\n",
      "  -s, --save_args\n"
     ]
    }
   ],
   "source": [
    "!icenet_predict --help"
   ]
  },
  {
   "cell_type": "code",
   "execution_count": 14,
   "metadata": {
    "pycharm": {
     "name": "#%% md\n"
    },
    "tags": []
   },
   "outputs": [
    {
     "name": "stdout",
     "output_type": "stream",
     "text": [
      "[21-03-24 15:18:43 :INFO    ] - Loading configuration ./dataset_config.tutorial_data.json\n",
      "[21-03-24 15:18:43 :INFO    ] - Training dataset path: ./network_datasets/tutorial_data/south/train\n",
      "[21-03-24 15:18:43 :INFO    ] - Validation dataset path: ./network_datasets/tutorial_data/south/val\n",
      "[21-03-24 15:18:43 :INFO    ] - Test dataset path: ./network_datasets/tutorial_data/south/test\n",
      "[21-03-24 15:18:43 :INFO    ] - Loading configuration /data/hpcdata/users/bryald/git/icenet/icenet-notebooks/loader.tutorial_data.json\n",
      "[21-03-24 15:18:43 :INFO    ] - Loading model from ./results/networks/tutorial_testrun/tutorial_testrun.network_tutorial_data.42.h5...\n",
      "[21-03-24 15:18:43 :INFO    ] - Datasets: 46 train, 12 val and 1 test filenames\n",
      "[21-03-24 15:18:44 :INFO    ] - Processing test batch 1, item 0 (date 2020-04-01)\n",
      "[21-03-24 15:18:44 :INFO    ] - Running prediction 2020-04-01\n",
      "[21-03-24 15:18:50 :INFO    ] - Saving 2020-04-01 - forecast output (1, 432, 432, 7)\n",
      "[21-03-24 15:18:50 :INFO    ] - Processing test batch 1, item 1 (date 2020-04-02)\n",
      "[21-03-24 15:18:50 :INFO    ] - Running prediction 2020-04-02\n",
      "[21-03-24 15:18:50 :WARNING ] - ./results/predict/example_south_forecast/tutorial_testrun.42 output already exists\n",
      "[21-03-24 15:18:50 :INFO    ] - Saving 2020-04-02 - forecast output (1, 432, 432, 7)\n"
     ]
    }
   ],
   "source": [
    "!icenet_predict -n 0.6 -t \\\n",
    "    tutorial_data tutorial_testrun example_south_forecast 42 testdates.csv"
   ]
  },
  {
   "cell_type": "markdown",
   "metadata": {
    "pycharm": {
     "name": "#%% md\n"
    },
    "tags": []
   },
   "source": [
    "The example uses the cached test data from the training run, but the process is the same for any other processed data with only the need to _omit the `-t` option, which specifies to source from cached test data_.\n",
    "\n",
    "### Outputs\n",
    "\n",
    "In the above example, there are three outputs: \n",
    "\n",
    "* __forecast__: the ___predicted___ forecast data from the model output layer\n",
    "* __outputs__: the outputs from the data loader which would be used for training\n",
    "* __weights__: the generated sample weights from the data loader for the training sample\n",
    "\n",
    "The outputs initially are stored as Numpy arrays under the `results` directory thusly: \n",
    "\n",
    "```\n",
    "results/predict/example_south_forecast/notebook_testrun.42/2020_04_01.npy\n",
    "results/predict/example_south_forecast/notebook_testrun.42/2020_04_02.npy\n",
    "```\n",
    "\n",
    "With associated inputs, output and weights stored within subfolders.\n"
   ]
  },
  {
   "cell_type": "markdown",
   "metadata": {},
   "source": [
    "The individual numpy outputs, samples and sample weights are deposited into `/results/predict`. To generate __a CF-compliant NetCDF containing the forecasts requested__ we need to run `icenet_output`, these can then be post-processed. "
   ]
  },
  {
   "cell_type": "code",
   "execution_count": 15,
   "metadata": {},
   "outputs": [
    {
     "name": "stdout",
     "output_type": "stream",
     "text": [
      "[21-03-24 15:18:54 :INFO    ] - Loading configuration ./dataset_config.tutorial_data.json\n",
      "[21-03-24 15:18:54 :INFO    ] - Training dataset path: ./network_datasets/tutorial_data/south/train\n",
      "[21-03-24 15:18:54 :INFO    ] - Validation dataset path: ./network_datasets/tutorial_data/south/val\n",
      "[21-03-24 15:18:54 :INFO    ] - Test dataset path: ./network_datasets/tutorial_data/south/test\n",
      "[21-03-24 15:18:54 :INFO    ] - Post-processing 2020-04-01\n",
      "[21-03-24 15:18:54 :INFO    ] - Post-processing 2020-04-02\n",
      "[21-03-24 15:18:54 :INFO    ] - Dataset arr shape: (2, 432, 432, 7, 2)\n",
      "[21-03-24 15:18:54 :INFO    ] - Saving to results/predict/example_south_forecast.nc\n"
     ]
    }
   ],
   "source": [
    "!icenet_output example_south_forecast tutorial_data testdates.csv -o results/predict"
   ]
  },
  {
   "cell_type": "markdown",
   "metadata": {},
   "source": [
    "Once we have created the netCDF file containing the forecast, we can generate plots using `icenet_plot_forecast`"
   ]
  },
  {
   "cell_type": "code",
   "execution_count": 16,
   "metadata": {},
   "outputs": [
    {
     "name": "stdout",
     "output_type": "stream",
     "text": [
      "usage: icenet_plot_forecast [-h] [-o OUTPUT_PATH] [-v] [-r REGION]\n",
      "                            [-l LEADTIMES] [-c] [-f {mp4,png,svg,tiff}]\n",
      "                            [-n CMAP_NAME] [-s]\n",
      "                            {north,south} forecast_file forecast_date\n",
      "\n",
      "positional arguments:\n",
      "  {north,south}\n",
      "  forecast_file\n",
      "  forecast_date\n",
      "\n",
      "options:\n",
      "  -h, --help            show this help message and exit\n",
      "  -o OUTPUT_PATH, --output-path OUTPUT_PATH\n",
      "  -v, --verbose\n",
      "  -r REGION, --region REGION\n",
      "                        Region specified x1, y1, x2, y2\n",
      "  -l LEADTIMES, --leadtimes LEADTIMES\n",
      "                        Leadtimes to output, multiple as CSV, range as n..n\n",
      "  -c, --no-coastlines   Turn off cartopy integration\n",
      "  -f {mp4,png,svg,tiff}, --format {mp4,png,svg,tiff}\n",
      "                        Format to output in\n",
      "  -n CMAP_NAME, --cmap-name CMAP_NAME\n",
      "                        Color map name if not wanting to use default\n",
      "  -s, --stddev          Plot the standard deviation from the ensemble\n"
     ]
    }
   ],
   "source": [
    "!icenet_plot_forecast --help"
   ]
  },
  {
   "cell_type": "markdown",
   "metadata": {},
   "source": [
    "In the following cell, we generate video outputs for the two dates we've forecasted for over a 7 day period.\n",
    "\n",
    "`-l` defines the start and end lead times to capture in the video.\n",
    "\n",
    "`-o` defines the output directory for the image/video.\n",
    "\n",
    "`-f` defines the output file type.\n",
    "\n",
    "**Note:** For video outputs, this requires `ffmpeg` to be installed locally (Or, can remove the `-f mp4` flag to output a series of `png` forecast image files without `ffmpeg`).\n",
    "\n",
    "If using anaconda, you can install this using:\n",
    "\n",
    "```bash\n",
    "    conda install -c conda-forge ffmpeg\n",
    "```"
   ]
  },
  {
   "cell_type": "code",
   "execution_count": 17,
   "metadata": {},
   "outputs": [
    {
     "name": "stdout",
     "output_type": "stream",
     "text": [
      "WARNING:root:No directory at: outputs\n",
      "INFO:root:Using cmap Blues_r\n",
      "WARNING:root:Coastlines will not work with the current implementation of xarray_to_video\n",
      "INFO:root:Inspecting data\n",
      "INFO:root:Initialising plot\n",
      "INFO:root:Animating\n",
      "INFO:root:Saving plot to outputs/example_south_forecast.2020-04-01.20200401.mp4\n",
      "INFO:root:Using cmap Blues_r\n",
      "WARNING:root:Coastlines will not work with the current implementation of xarray_to_video\n",
      "INFO:root:Inspecting data\n",
      "INFO:root:Initialising plot\n",
      "INFO:root:Animating\n",
      "INFO:root:Saving plot to outputs/example_south_forecast.2020-04-02.20200402.mp4\n"
     ]
    }
   ],
   "source": [
    "!icenet_plot_forecast south results/predict/example_south_forecast.nc 2020-04-01 -l 1..7 -o outputs -f mp4\n",
    "!icenet_plot_forecast south results/predict/example_south_forecast.nc 2020-04-02 -l 1..7 -o outputs -f mp4"
   ]
  },
  {
   "cell_type": "markdown",
   "metadata": {},
   "source": [
    "A more automated way of visualising the forecasts from the netCDF output is shown in the next notebook."
   ]
  },
  {
   "cell_type": "markdown",
   "metadata": {},
   "source": [
    "Now, the video can be visualised for the two test dates."
   ]
  },
  {
   "cell_type": "code",
   "execution_count": 18,
   "metadata": {},
   "outputs": [
    {
     "data": {
      "text/html": [
       "<video src=\"outputs/example_south_forecast.2020-04-01.20200401.mp4\" controls  >\n",
       "      Your browser does not support the <code>video</code> element.\n",
       "    </video>"
      ],
      "text/plain": [
       "<IPython.core.display.Video object>"
      ]
     },
     "execution_count": 18,
     "metadata": {},
     "output_type": "execute_result"
    }
   ],
   "source": [
    "from IPython.display import Video\n",
    "\n",
    "Video(\"outputs/example_south_forecast.2020-04-01.20200401.mp4\")"
   ]
  },
  {
   "cell_type": "code",
   "execution_count": 19,
   "metadata": {},
   "outputs": [
    {
     "data": {
      "text/html": [
       "<video src=\"outputs/example_south_forecast.2020-04-02.20200402.mp4\" controls  >\n",
       "      Your browser does not support the <code>video</code> element.\n",
       "    </video>"
      ],
      "text/plain": [
       "<IPython.core.display.Video object>"
      ]
     },
     "execution_count": 19,
     "metadata": {},
     "output_type": "execute_result"
    }
   ],
   "source": [
    "Video(\"outputs/example_south_forecast.2020-04-02.20200402.mp4\")"
   ]
  },
  {
   "cell_type": "markdown",
   "metadata": {
    "pycharm": {
     "name": "#%% md\n"
    },
    "tags": []
   },
   "source": [
    "___\n",
    "## Summary\n",
    "\n",
    "Within this notebook we've attempted to give a full crash course to running the CLI tools __manually__. This is the first of a series of notebooks, covering further information: \n",
    "\n",
    "* [Data structure and analysis](03.data_and_forecasts.ipynb): understand the structure of the data stores and products created by these workflows and what tools currently exist in IceNet to looks over them.\n",
    "* [Library usage](04.library_usage.ipynb): understand how to programmatically perform an end to end run.\n",
    "* [Library extension](05.library_extension.ipynb): understand why and how to extend the IceNet library."
   ]
  },
  {
   "cell_type": "code",
   "execution_count": 20,
   "metadata": {},
   "outputs": [
    {
     "data": {
      "text/plain": [
       "'0.2.7'"
      ]
     },
     "execution_count": 20,
     "metadata": {},
     "output_type": "execute_result"
    }
   ],
   "source": [
    "import icenet\n",
    "icenet.__version__"
   ]
  },
  {
   "cell_type": "markdown",
   "metadata": {},
   "source": [
    "## Version\n",
    "- IceNet Codebase: v0.2.7"
   ]
  }
 ],
 "metadata": {
  "kernelspec": {
   "display_name": "Python 3",
   "language": "python",
   "name": "python3"
  },
  "language_info": {
   "codemirror_mode": {
    "name": "ipython",
    "version": 3
   },
   "file_extension": ".py",
   "mimetype": "text/x-python",
   "name": "python",
   "nbconvert_exporter": "python",
   "pygments_lexer": "ipython3",
   "version": "3.11.7"
  },
  "widgets": {
   "application/vnd.jupyter.widget-state+json": {
    "state": {},
    "version_major": 2,
    "version_minor": 0
   }
  }
 },
 "nbformat": 4,
 "nbformat_minor": 4
}
